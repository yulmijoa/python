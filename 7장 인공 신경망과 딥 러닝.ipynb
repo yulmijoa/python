{
 "cells": [
  {
   "cell_type": "markdown",
   "metadata": {},
   "source": [
    "# 7.1 회귀"
   ]
  },
  {
   "cell_type": "markdown",
   "metadata": {},
   "source": [
    "## 7.1.1 인공 신경망"
   ]
  },
  {
   "cell_type": "markdown",
   "metadata": {},
   "source": [
    "### 인공 신경망은 퍼셉트론이라 불리는 단층 신경망이 좀 더 발전된 구조\n",
    "### 퍼셉트론은 다양한 독립변수를 입력받아 개별 가중치를 적용하고 입력값과 가중치를 곱해 합한 값에 절편을 더한 값인 z가 임계치를 넘어가면 1, 그렇지 않으면 0을 출력하는 활성화 함수를 갖는 형태\n",
    "### 한 층의 퍼셉트론으로는 XOR문제를 해결할 수 없음. 따라서 다층 퍼셉트론을 통해 비선형 분류 문제에 이용할 수 있게 됨\n",
    "###    |\n",
    "### 입력층과 출력층 사이에 은닉층을 두면서 비선형 분류 문제를 해결할 수 있지만 은닉층이 늘어날수록 학습에 어려운 문제가 발생\n",
    "### 순방향 연산 뒤 예측값과 실제 값 사이의 오차를 다시 후방으로 보내 가중치를 보정하는 오차 역전파 알고리즘으로 해결 가능"
   ]
  },
  {
   "cell_type": "code",
   "execution_count": 1,
   "metadata": {},
   "outputs": [
    {
     "data": {
      "text/html": [
       "<img src=\"https://upload.wikimedia.org/wikipedia/commons/thumb/e/ed/3_gate_XOR.svg/270px-3_gate_XOR.svg.png\"/>"
      ],
      "text/plain": [
       "<IPython.core.display.Image object>"
      ]
     },
     "execution_count": 1,
     "metadata": {},
     "output_type": "execute_result"
    }
   ],
   "source": [
    "from IPython.display import Image\n",
    "from IPython.core.display import HTML \n",
    "Image(url= \"https://upload.wikimedia.org/wikipedia/commons/thumb/e/ed/3_gate_XOR.svg/270px-3_gate_XOR.svg.png\")"
   ]
  },
  {
   "cell_type": "markdown",
   "metadata": {},
   "source": [
    "### 7.1.2 데이터 및 상관관계 확인"
   ]
  },
  {
   "cell_type": "code",
   "execution_count": 9,
   "metadata": {},
   "outputs": [],
   "source": [
    "import pandas as pd"
   ]
  },
  {
   "cell_type": "code",
   "execution_count": 10,
   "metadata": {},
   "outputs": [],
   "source": [
    "w=pd.read_csv('ch7-1.csv')"
   ]
  },
  {
   "cell_type": "code",
   "execution_count": 11,
   "metadata": {},
   "outputs": [
    {
     "name": "stdout",
     "output_type": "stream",
     "text": [
      "<class 'pandas.core.frame.DataFrame'>\n",
      "RangeIndex: 300 entries, 0 to 299\n",
      "Data columns (total 3 columns):\n",
      " #   Column      Non-Null Count  Dtype\n",
      "---  ------      --------------  -----\n",
      " 0   egg_weight  300 non-null    int64\n",
      " 1   acc_food    300 non-null    int64\n",
      " 2   weight      300 non-null    int64\n",
      "dtypes: int64(3)\n",
      "memory usage: 7.2 KB\n"
     ]
    }
   ],
   "source": [
    "w.info()"
   ]
  },
  {
   "cell_type": "code",
   "execution_count": 12,
   "metadata": {},
   "outputs": [
    {
     "data": {
      "text/html": [
       "<div>\n",
       "<style scoped>\n",
       "    .dataframe tbody tr th:only-of-type {\n",
       "        vertical-align: middle;\n",
       "    }\n",
       "\n",
       "    .dataframe tbody tr th {\n",
       "        vertical-align: top;\n",
       "    }\n",
       "\n",
       "    .dataframe thead th {\n",
       "        text-align: right;\n",
       "    }\n",
       "</style>\n",
       "<table border=\"1\" class=\"dataframe\">\n",
       "  <thead>\n",
       "    <tr style=\"text-align: right;\">\n",
       "      <th></th>\n",
       "      <th>egg_weight</th>\n",
       "      <th>acc_food</th>\n",
       "      <th>weight</th>\n",
       "    </tr>\n",
       "  </thead>\n",
       "  <tbody>\n",
       "    <tr>\n",
       "      <th>0</th>\n",
       "      <td>69</td>\n",
       "      <td>10602</td>\n",
       "      <td>4128</td>\n",
       "    </tr>\n",
       "    <tr>\n",
       "      <th>1</th>\n",
       "      <td>76</td>\n",
       "      <td>10640</td>\n",
       "      <td>4104</td>\n",
       "    </tr>\n",
       "    <tr>\n",
       "      <th>2</th>\n",
       "      <td>76</td>\n",
       "      <td>10898</td>\n",
       "      <td>4119</td>\n",
       "    </tr>\n",
       "    <tr>\n",
       "      <th>3</th>\n",
       "      <td>71</td>\n",
       "      <td>10384</td>\n",
       "      <td>4127</td>\n",
       "    </tr>\n",
       "    <tr>\n",
       "      <th>4</th>\n",
       "      <td>71</td>\n",
       "      <td>10709</td>\n",
       "      <td>4112</td>\n",
       "    </tr>\n",
       "  </tbody>\n",
       "</table>\n",
       "</div>"
      ],
      "text/plain": [
       "   egg_weight  acc_food  weight\n",
       "0          69     10602    4128\n",
       "1          76     10640    4104\n",
       "2          76     10898    4119\n",
       "3          71     10384    4127\n",
       "4          71     10709    4112"
      ]
     },
     "execution_count": 12,
     "metadata": {},
     "output_type": "execute_result"
    }
   ],
   "source": [
    "w.head()"
   ]
  },
  {
   "cell_type": "code",
   "execution_count": 13,
   "metadata": {},
   "outputs": [
    {
     "data": {
      "text/html": [
       "<div>\n",
       "<style scoped>\n",
       "    .dataframe tbody tr th:only-of-type {\n",
       "        vertical-align: middle;\n",
       "    }\n",
       "\n",
       "    .dataframe tbody tr th {\n",
       "        vertical-align: top;\n",
       "    }\n",
       "\n",
       "    .dataframe thead th {\n",
       "        text-align: right;\n",
       "    }\n",
       "</style>\n",
       "<table border=\"1\" class=\"dataframe\">\n",
       "  <thead>\n",
       "    <tr style=\"text-align: right;\">\n",
       "      <th></th>\n",
       "      <th>egg_weight</th>\n",
       "      <th>acc_food</th>\n",
       "      <th>weight</th>\n",
       "    </tr>\n",
       "  </thead>\n",
       "  <tbody>\n",
       "    <tr>\n",
       "      <th>egg_weight</th>\n",
       "      <td>1.000000</td>\n",
       "      <td>0.944810</td>\n",
       "      <td>0.779895</td>\n",
       "    </tr>\n",
       "    <tr>\n",
       "      <th>acc_food</th>\n",
       "      <td>0.944810</td>\n",
       "      <td>1.000000</td>\n",
       "      <td>0.790082</td>\n",
       "    </tr>\n",
       "    <tr>\n",
       "      <th>weight</th>\n",
       "      <td>0.779895</td>\n",
       "      <td>0.790082</td>\n",
       "      <td>1.000000</td>\n",
       "    </tr>\n",
       "  </tbody>\n",
       "</table>\n",
       "</div>"
      ],
      "text/plain": [
       "            egg_weight  acc_food    weight\n",
       "egg_weight    1.000000  0.944810  0.779895\n",
       "acc_food      0.944810  1.000000  0.790082\n",
       "weight        0.779895  0.790082  1.000000"
      ]
     },
     "execution_count": 13,
     "metadata": {},
     "output_type": "execute_result"
    }
   ],
   "source": [
    "#상관분석 실시\n",
    "w_cor=w.corr(method='pearson')\n",
    "w_cor"
   ]
  },
  {
   "cell_type": "code",
   "execution_count": 14,
   "metadata": {},
   "outputs": [
    {
     "data": {
      "text/plain": [
       "<seaborn.axisgrid.PairGrid at 0x2ce0a6ad0c8>"
      ]
     },
     "execution_count": 14,
     "metadata": {},
     "output_type": "execute_result"
    },
    {
     "data": {
      "image/png": "[encoded data removed]",
      "text/plain": [
       "<Figure size 540x540 with 12 Axes>"
      ]
     },
     "metadata": {
      "needs_background": "light"
     },
     "output_type": "display_data"
    }
   ],
   "source": [
    "#상관관계 시각화\n",
    "import seaborn as sns\n",
    "sns.pairplot(w)"
   ]
  },
  {
   "cell_type": "markdown",
   "metadata": {},
   "source": [
    "### 종란 무게와 누적 사료량은 닭의 몸무게와 선형으로 비례하다가 특정 구간에서 더 이상 비례하지 않고 꺾임\n",
    "### 종란 무게나 누적 사료량이 많더라도 최종 성장한 닭의 몸무게가 계속해서 느는 것이 아니기 때문"
   ]
  },
  {
   "cell_type": "markdown",
   "metadata": {},
   "source": [
    "### 7.1.3 데이터 분할"
   ]
  },
  {
   "cell_type": "code",
   "execution_count": 16,
   "metadata": {},
   "outputs": [],
   "source": [
    "# x, y로 데이터셋 분할, ndarray 타입\n",
    "x_data=w.iloc[:,0:2].values\n",
    "y_data=w.iloc[:,2].values"
   ]
  },
  {
   "cell_type": "code",
   "execution_count": 17,
   "metadata": {},
   "outputs": [],
   "source": [
    "# 데이터 셋 분할을 위한 함수 불러오기\n",
    "from sklearn.model_selection import train_test_split"
   ]
  },
  {
   "cell_type": "code",
   "execution_count": 18,
   "metadata": {},
   "outputs": [],
   "source": [
    "#훈련용과 테스트용 8:2로 분할 실시\n",
    "x_train, x_test, y_train, y_test = train_test_split(x_data, y_data, test_size=0.2)"
   ]
  },
  {
   "cell_type": "code",
   "execution_count": 19,
   "metadata": {},
   "outputs": [
    {
     "data": {
      "text/plain": [
       "(240, 60)"
      ]
     },
     "execution_count": 19,
     "metadata": {},
     "output_type": "execute_result"
    }
   ],
   "source": [
    "#데이터 분할 후 행 수 확인\n",
    "len(pd.DataFrame(x_train)), len(pd.DataFrame(x_test))"
   ]
  },
  {
   "cell_type": "markdown",
   "metadata": {},
   "source": [
    "### 7.1.4 신경망 구현"
   ]
  },
  {
   "cell_type": "code",
   "execution_count": 20,
   "metadata": {},
   "outputs": [],
   "source": [
    "#MLP 알고리즘 수행을 위한 함수 불러오기\n",
    "from sklearn.neural_network import MLPRegressor"
   ]
  },
  {
   "cell_type": "code",
   "execution_count": 22,
   "metadata": {},
   "outputs": [],
   "source": [
    "#모델 구축 및 학습\n",
    "model_mlp=MLPRegressor().fit(x_train, y_train)"
   ]
  },
  {
   "cell_type": "code",
   "execution_count": 23,
   "metadata": {},
   "outputs": [
    {
     "data": {
      "text/plain": [
       "{'activation': 'relu',\n",
       " 'alpha': 0.0001,\n",
       " 'batch_size': 'auto',\n",
       " 'beta_1': 0.9,\n",
       " 'beta_2': 0.999,\n",
       " 'early_stopping': False,\n",
       " 'epsilon': 1e-08,\n",
       " 'hidden_layer_sizes': (100,),\n",
       " 'learning_rate': 'constant',\n",
       " 'learning_rate_init': 0.001,\n",
       " 'max_fun': 15000,\n",
       " 'max_iter': 200,\n",
       " 'momentum': 0.9,\n",
       " 'n_iter_no_change': 10,\n",
       " 'nesterovs_momentum': True,\n",
       " 'power_t': 0.5,\n",
       " 'random_state': None,\n",
       " 'shuffle': True,\n",
       " 'solver': 'adam',\n",
       " 'tol': 0.0001,\n",
       " 'validation_fraction': 0.1,\n",
       " 'verbose': False,\n",
       " 'warm_start': False}"
      ]
     },
     "execution_count": 23,
     "metadata": {},
     "output_type": "execute_result"
    }
   ],
   "source": [
    "#모델 파라미터 확인\n",
    "model_mlp.get_params()"
   ]
  },
  {
   "cell_type": "code",
   "execution_count": 24,
   "metadata": {},
   "outputs": [],
   "source": [
    "#예측값 생성\n",
    "y_pred_mlp=model_mlp.predict(x_test)"
   ]
  },
  {
   "cell_type": "code",
   "execution_count": 25,
   "metadata": {},
   "outputs": [
    {
     "data": {
      "text/plain": [
       "array([4013.44840613, 4089.10274817, 4304.19637536, 4280.88971838,\n",
       "       4066.11372223, 4316.87165843, 4036.53619983, 4344.03152838,\n",
       "       4013.44840613, 4144.56733102, 4107.51798803, 4216.19225232,\n",
       "       4286.53090741, 4021.93151743, 4204.26674116, 4325.43220973,\n",
       "       4255.82199879, 4078.74634978, 4137.73864353, 4072.27794885,\n",
       "       4172.57574064, 3924.37688016, 4183.00957903, 4320.33538605,\n",
       "       4272.92964467, 4249.1773901 , 4160.20463188, 4343.74868183,\n",
       "       4170.39827923, 4291.5637478 , 3988.44466982, 4012.26090767,\n",
       "       3975.28900468, 4031.98374151, 4215.00475386, 4141.90948754,\n",
       "       4165.30145556, 4134.89672126, 4283.54756185, 4018.28371101,\n",
       "       4131.43299363, 4031.1565296 , 4304.19637536, 3980.12430956,\n",
       "       4219.27436563, 4325.45353749, 4244.58227625, 4055.39703728,\n",
       "       4147.81219536, 4154.82496165, 3945.99432884, 4213.8946954 ,\n",
       "       4408.50226012, 4049.71319274, 4112.35329291, 4355.27125092,\n",
       "       4012.88271302, 4039.94381522, 4049.43034618, 4395.60811377])"
      ]
     },
     "execution_count": 25,
     "metadata": {},
     "output_type": "execute_result"
    }
   ],
   "source": [
    "#예측값 확인\n",
    "y_pred_mlp"
   ]
  },
  {
   "cell_type": "markdown",
   "metadata": {},
   "source": [
    "### 7.1.5 회귀모델의 성능 평가"
   ]
  },
  {
   "cell_type": "markdown",
   "metadata": {},
   "source": [
    "### 회귀모델의 성능을 평가하는 방법에는 결정계수(R^2), 오차(Error)가 있음\n",
    "### 결정계수는 1에 가까울 수록, 오차 값이 작을 수록 모델의 성능이 뛰어남"
   ]
  },
  {
   "cell_type": "code",
   "execution_count": 26,
   "metadata": {},
   "outputs": [],
   "source": [
    "#회귀 성능 지표 계산용 함수 불러오기 및 계산\n",
    "from sklearn.metrics import mean_squared_error, mean_absolute_error, r2_score"
   ]
  },
  {
   "cell_type": "code",
   "execution_count": 28,
   "metadata": {},
   "outputs": [
    {
     "data": {
      "text/plain": [
       "(124.82967137854841, 98.0248629697891, -26.759099011756962)"
      ]
     },
     "execution_count": 28,
     "metadata": {},
     "output_type": "execute_result"
    }
   ],
   "source": [
    "#squared=True 일 경우 MSE, False일 경우 RMSE\n",
    "RMSE=mean_squared_error(y_test, y_pred_mlp, squared=False)\n",
    "MAE=mean_absolute_error(y_test, y_pred_mlp)\n",
    "R_squared=r2_score(y_test, y_pred_mlp)\n",
    "RMSE, MAE, R_squared\n",
    "\n",
    "#결정계수 값이 1에 가까울 수록 뛰어난 성능인데 음수가 나왔다는 것은 예측을 잘못했다는 뜻"
   ]
  },
  {
   "cell_type": "markdown",
   "metadata": {},
   "source": [
    "### 7.1.6 딥 러닝\n",
    "### 딥 러닝은 머신러닝의 한 분야로 다층 구조 형태의 신경망\n",
    "### DNN, CNN, RNN이 가장 대표적임\n",
    "### DNN은 주로 회귀, CNN은 이미지 분류, RNN은 필기 인식이나 음성 인식같이 앞뒤 순서가 있는 데이터 분석"
   ]
  },
  {
   "cell_type": "markdown",
   "metadata": {},
   "source": [
    "### 7.1.7 H2O 활용 딥 러닝 구현 (회귀)\n",
    "#### DNN 이외의 구조에는 적용 불가"
   ]
  },
  {
   "cell_type": "code",
   "execution_count": 32,
   "metadata": {},
   "outputs": [],
   "source": [
    "# train, test 8:2로 나누기\n",
    "from sklearn.model_selection import train_test_split\n",
    "train, test = train_test_split(w, test_size=0.2)"
   ]
  },
  {
   "cell_type": "code",
   "execution_count": 33,
   "metadata": {},
   "outputs": [
    {
     "name": "stdout",
     "output_type": "stream",
     "text": [
      "Requirement already satisfied: requests in c:\\project\\lib\\site-packages (2.22.0)\n",
      "Requirement already satisfied: urllib3!=1.25.0,!=1.25.1,<1.26,>=1.21.1 in c:\\project\\lib\\site-packages (from requests) (1.24.2)\n",
      "Requirement already satisfied: certifi>=2017.4.17 in c:\\project\\lib\\site-packages (from requests) (2019.9.11)\n",
      "Requirement already satisfied: idna<2.9,>=2.5 in c:\\project\\lib\\site-packages (from requests) (2.8)\n",
      "Requirement already satisfied: chardet<3.1.0,>=3.0.2 in c:\\project\\lib\\site-packages (from requests) (3.0.4)\n",
      "Collecting tabulate\n",
      "  Downloading https://files.pythonhosted.org/packages/92/4e/e5a13fdb3e6f81ce11893523ff289870c87c8f1f289a7369fb0e9840c3bb/tabulate-0.8.10-py3-none-any.whl\n",
      "Installing collected packages: tabulate\n",
      "Successfully installed tabulate-0.8.10\n",
      "Requirement already satisfied: future in c:\\project\\lib\\site-packages (0.17.1)\n"
     ]
    }
   ],
   "source": [
    "#H2O 의존 패키지 설치\n",
    "!pip install requests\n",
    "!pip install tabulate\n",
    "!pip install future"
   ]
  },
  {
   "cell_type": "code",
   "execution_count": 34,
   "metadata": {},
   "outputs": [
    {
     "name": "stdout",
     "output_type": "stream",
     "text": [
      "Looking in links: http://h2o-release.s3.amazonaws.com/h2o/latest+stable_Py.html\n",
      "Collecting h2o\n",
      "  Downloading https://files.pythonhosted.org/packages/05/00/8ff9ad8e217a497aae6e634bdfa89122bf43902d04ef267632502eac72c2/h2o-3.36.1.4.tar.gz (177.1MB)\n",
      "Requirement already satisfied: requests in c:\\project\\lib\\site-packages (from h2o) (2.22.0)\n",
      "Requirement already satisfied: tabulate in c:\\project\\lib\\site-packages (from h2o) (0.8.10)\n",
      "Requirement already satisfied: future in c:\\project\\lib\\site-packages (from h2o) (0.17.1)\n",
      "Requirement already satisfied: chardet<3.1.0,>=3.0.2 in c:\\project\\lib\\site-packages (from requests->h2o) (3.0.4)\n",
      "Requirement already satisfied: idna<2.9,>=2.5 in c:\\project\\lib\\site-packages (from requests->h2o) (2.8)\n",
      "Requirement already satisfied: certifi>=2017.4.17 in c:\\project\\lib\\site-packages (from requests->h2o) (2019.9.11)\n",
      "Requirement already satisfied: urllib3!=1.25.0,!=1.25.1,<1.26,>=1.21.1 in c:\\project\\lib\\site-packages (from requests->h2o) (1.24.2)\n",
      "Building wheels for collected packages: h2o\n",
      "  Building wheel for h2o (setup.py): started\n",
      "  Building wheel for h2o (setup.py): finished with status 'done'\n",
      "  Created wheel for h2o: filename=h2o-3.36.1.4-py2.py3-none-any.whl size=177128127 sha256=4023c404c1c11cde48de3a8f2a6561ebe6e0ca8f26c799f0dbd0705e1e7cea3d\n",
      "  Stored in directory: C:\\Users\\dayti\\AppData\\Local\\pip\\Cache\\wheels\\a3\\20\\a4\\53f72c38b1994450e107bb7b6386e69e6203224dd723508f48\n",
      "Successfully built h2o\n",
      "Installing collected packages: h2o\n",
      "Successfully installed h2o-3.36.1.4\n"
     ]
    },
    {
     "name": "stderr",
     "output_type": "stream",
     "text": [
      "  WARNING: The repository located at h2o-release.s3.amazonaws.com is not a trusted or secure host and is being ignored. If this repository is available via HTTPS we recommend you use HTTPS instead, otherwise you may silence this warning and allow it anyway with '--trusted-host h2o-release.s3.amazonaws.com'.\n"
     ]
    }
   ],
   "source": [
    "# H2O 패키지 설치\n",
    "!pip install -f http://h2o-release.s3.amazonaws.com/h2o/latest+stable_Py.html h2o"
   ]
  },
  {
   "cell_type": "code",
   "execution_count": 37,
   "metadata": {},
   "outputs": [
    {
     "name": "stdout",
     "output_type": "stream",
     "text": [
      "Checking whether there is an H2O instance running at http://localhost:54321 . connected.\n"
     ]
    },
    {
     "data": {
      "text/html": [
       "<div style=\"overflow:auto\"><table style=\"width:50%\"><tr><td>H2O_cluster_uptime:</td>\n",
       "<td>2 mins 23 secs</td></tr>\n",
       "<tr><td>H2O_cluster_timezone:</td>\n",
       "<td>Asia/Seoul</td></tr>\n",
       "<tr><td>H2O_data_parsing_timezone:</td>\n",
       "<td>UTC</td></tr>\n",
       "<tr><td>H2O_cluster_version:</td>\n",
       "<td>3.36.1.4</td></tr>\n",
       "<tr><td>H2O_cluster_version_age:</td>\n",
       "<td>12 days </td></tr>\n",
       "<tr><td>H2O_cluster_name:</td>\n",
       "<td>H2O_from_python_dayti_4dfflm</td></tr>\n",
       "<tr><td>H2O_cluster_total_nodes:</td>\n",
       "<td>1</td></tr>\n",
       "<tr><td>H2O_cluster_free_memory:</td>\n",
       "<td>2.990 Gb</td></tr>\n",
       "<tr><td>H2O_cluster_total_cores:</td>\n",
       "<td>4</td></tr>\n",
       "<tr><td>H2O_cluster_allowed_cores:</td>\n",
       "<td>4</td></tr>\n",
       "<tr><td>H2O_cluster_status:</td>\n",
       "<td>locked, healthy</td></tr>\n",
       "<tr><td>H2O_connection_url:</td>\n",
       "<td>http://localhost:54321</td></tr>\n",
       "<tr><td>H2O_connection_proxy:</td>\n",
       "<td>{\"http\": null, \"https\": null}</td></tr>\n",
       "<tr><td>H2O_internal_security:</td>\n",
       "<td>False</td></tr>\n",
       "<tr><td>Python_version:</td>\n",
       "<td>3.7.4 final</td></tr></table></div>"
      ],
      "text/plain": [
       "--------------------------  -----------------------------\n",
       "H2O_cluster_uptime:         2 mins 23 secs\n",
       "H2O_cluster_timezone:       Asia/Seoul\n",
       "H2O_data_parsing_timezone:  UTC\n",
       "H2O_cluster_version:        3.36.1.4\n",
       "H2O_cluster_version_age:    12 days\n",
       "H2O_cluster_name:           H2O_from_python_dayti_4dfflm\n",
       "H2O_cluster_total_nodes:    1\n",
       "H2O_cluster_free_memory:    2.990 Gb\n",
       "H2O_cluster_total_cores:    4\n",
       "H2O_cluster_allowed_cores:  4\n",
       "H2O_cluster_status:         locked, healthy\n",
       "H2O_connection_url:         http://localhost:54321\n",
       "H2O_connection_proxy:       {\"http\": null, \"https\": null}\n",
       "H2O_internal_security:      False\n",
       "Python_version:             3.7.4 final\n",
       "--------------------------  -----------------------------"
      ]
     },
     "metadata": {},
     "output_type": "display_data"
    }
   ],
   "source": [
    "# H2O 패키지 실행\n",
    "import h2o\n",
    "h2o.init()"
   ]
  },
  {
   "cell_type": "code",
   "execution_count": 44,
   "metadata": {},
   "outputs": [
    {
     "name": "stdout",
     "output_type": "stream",
     "text": [
      "Parse progress: |████████████████████████████████████████████████████████████████| (done) 100%\n"
     ]
    }
   ],
   "source": [
    "#훈련용 데이터 셋 H2O 전용 데이터 프레임으로 변환\n",
    "hf_train=h2o.H2OFrame(train)"
   ]
  },
  {
   "cell_type": "code",
   "execution_count": 45,
   "metadata": {},
   "outputs": [
    {
     "name": "stdout",
     "output_type": "stream",
     "text": [
      "Parse progress: |████████████████████████████████████████████████████████████████| (done) 100%\n"
     ]
    }
   ],
   "source": [
    "#테스트용 데이터 셋 H2O 전용 데이터 프레임으로 변환\n",
    "hf_test=h2o.H2OFrame(test)"
   ]
  },
  {
   "cell_type": "code",
   "execution_count": 46,
   "metadata": {},
   "outputs": [
    {
     "name": "stdout",
     "output_type": "stream",
     "text": [
      "H2OFrame: 'Key_Frame__upload_810eb5a4dd00403c4f76a0ae142041b5.hex' \n",
      "Dimensions: 240 obs. of 3 variables\n",
      "$ egg_weight :  num 55 52 71 58 68 64 69 67 62 63\n",
      "$ acc_food   :  num 9910 9784 10709 10036 10408 10320 10685 10220 10142 10423\n",
      "$ weight     :  num 4075 4060 4112 4090 4116 4104 4135 4105 4110 4109\n"
     ]
    }
   ],
   "source": [
    "hf_train.structure()"
   ]
  },
  {
   "cell_type": "code",
   "execution_count": 47,
   "metadata": {},
   "outputs": [
    {
     "name": "stdout",
     "output_type": "stream",
     "text": [
      "H2OFrame: 'Key_Frame__upload_af35f4cc4da4e850b141f2a6f38e4c0c.hex' \n",
      "Dimensions: 60 obs. of 3 variables\n",
      "$ egg_weight :  num 57 77 54 59 77 77 57 75 80 69\n",
      "$ acc_food   :  num 9982 10803 9858 10019 10757 10787 10143 10826 10944 10298\n",
      "$ weight     :  num 4079 4131 4065 4095 4108 4123 4074 4138 4112 4114\n"
     ]
    }
   ],
   "source": [
    "hf_test.structure()"
   ]
  },
  {
   "cell_type": "code",
   "execution_count": 50,
   "metadata": {},
   "outputs": [],
   "source": [
    "#딥러닝 구현을 위한 함수 불러오기\n",
    "from h2o.estimators import H2ODeepLearningEstimator"
   ]
  },
  {
   "cell_type": "code",
   "execution_count": 51,
   "metadata": {},
   "outputs": [
    {
     "name": "stdout",
     "output_type": "stream",
     "text": [
      "deeplearning Model Build progress: |█████████████████████████████████████████████| (done) 100%\n"
     ]
    }
   ],
   "source": [
    "#모델 구축 및 학습\n",
    "model_h2o=H2ODeepLearningEstimator().train(x=['egg_weight', 'acc_food'], y='weight', training_frame=hf_train)"
   ]
  },
  {
   "cell_type": "code",
   "execution_count": 53,
   "metadata": {},
   "outputs": [
    {
     "name": "stdout",
     "output_type": "stream",
     "text": [
      "Model Details\n",
      "=============\n",
      "H2ODeepLearningEstimator :  Deep Learning\n",
      "Model Key:  DeepLearning_model_python_1660629276340_1\n",
      "\n",
      "\n",
      "Status of Neuron Layers: predicting weight, regression, gaussian distribution, Quadratic loss, 41,001 weights/biases, 488.6 KB, 2,400 training samples, mini-batch size 1\n"
     ]
    },
    {
     "data": {
      "text/html": [
       "<div>\n",
       "<style scoped>\n",
       "    .dataframe tbody tr th:only-of-type {\n",
       "        vertical-align: middle;\n",
       "    }\n",
       "\n",
       "    .dataframe tbody tr th {\n",
       "        vertical-align: top;\n",
       "    }\n",
       "\n",
       "    .dataframe thead th {\n",
       "        text-align: right;\n",
       "    }\n",
       "</style>\n",
       "<table border=\"1\" class=\"dataframe\">\n",
       "  <thead>\n",
       "    <tr style=\"text-align: right;\">\n",
       "      <th></th>\n",
       "      <th></th>\n",
       "      <th>layer</th>\n",
       "      <th>units</th>\n",
       "      <th>type</th>\n",
       "      <th>dropout</th>\n",
       "      <th>l1</th>\n",
       "      <th>l2</th>\n",
       "      <th>mean_rate</th>\n",
       "      <th>rate_rms</th>\n",
       "      <th>momentum</th>\n",
       "      <th>mean_weight</th>\n",
       "      <th>weight_rms</th>\n",
       "      <th>mean_bias</th>\n",
       "      <th>bias_rms</th>\n",
       "    </tr>\n",
       "  </thead>\n",
       "  <tbody>\n",
       "    <tr>\n",
       "      <th>0</th>\n",
       "      <td></td>\n",
       "      <td>1</td>\n",
       "      <td>2</td>\n",
       "      <td>Input</td>\n",
       "      <td>0.0</td>\n",
       "      <td></td>\n",
       "      <td></td>\n",
       "      <td></td>\n",
       "      <td></td>\n",
       "      <td></td>\n",
       "      <td></td>\n",
       "      <td></td>\n",
       "      <td></td>\n",
       "      <td></td>\n",
       "    </tr>\n",
       "    <tr>\n",
       "      <th>1</th>\n",
       "      <td></td>\n",
       "      <td>2</td>\n",
       "      <td>200</td>\n",
       "      <td>Rectifier</td>\n",
       "      <td>0.0</td>\n",
       "      <td>0.0</td>\n",
       "      <td>0.0</td>\n",
       "      <td>0.006665</td>\n",
       "      <td>0.00465</td>\n",
       "      <td>0.0</td>\n",
       "      <td>-0.009829</td>\n",
       "      <td>0.107409</td>\n",
       "      <td>0.467574</td>\n",
       "      <td>0.02497</td>\n",
       "    </tr>\n",
       "    <tr>\n",
       "      <th>2</th>\n",
       "      <td></td>\n",
       "      <td>3</td>\n",
       "      <td>200</td>\n",
       "      <td>Rectifier</td>\n",
       "      <td>0.0</td>\n",
       "      <td>0.0</td>\n",
       "      <td>0.0</td>\n",
       "      <td>0.079491</td>\n",
       "      <td>0.186377</td>\n",
       "      <td>0.0</td>\n",
       "      <td>-0.00435</td>\n",
       "      <td>0.069947</td>\n",
       "      <td>0.992372</td>\n",
       "      <td>0.008983</td>\n",
       "    </tr>\n",
       "    <tr>\n",
       "      <th>3</th>\n",
       "      <td></td>\n",
       "      <td>4</td>\n",
       "      <td>1</td>\n",
       "      <td>Linear</td>\n",
       "      <td></td>\n",
       "      <td>0.0</td>\n",
       "      <td>0.0</td>\n",
       "      <td>0.010927</td>\n",
       "      <td>0.100591</td>\n",
       "      <td>0.0</td>\n",
       "      <td>-0.009398</td>\n",
       "      <td>0.082128</td>\n",
       "      <td>0.00238</td>\n",
       "      <td>0.0</td>\n",
       "    </tr>\n",
       "  </tbody>\n",
       "</table>\n",
       "</div>"
      ],
      "text/plain": [
       "     layer  units       type dropout   l1   l2 mean_rate  rate_rms momentum  \\\n",
       "0        1      2      Input     0.0                                          \n",
       "1        2    200  Rectifier     0.0  0.0  0.0  0.006665   0.00465      0.0   \n",
       "2        3    200  Rectifier     0.0  0.0  0.0  0.079491  0.186377      0.0   \n",
       "3        4      1     Linear          0.0  0.0  0.010927  0.100591      0.0   \n",
       "\n",
       "  mean_weight weight_rms mean_bias  bias_rms  \n",
       "0                                             \n",
       "1   -0.009829   0.107409  0.467574   0.02497  \n",
       "2    -0.00435   0.069947  0.992372  0.008983  \n",
       "3   -0.009398   0.082128   0.00238       0.0  "
      ]
     },
     "metadata": {},
     "output_type": "display_data"
    },
    {
     "name": "stdout",
     "output_type": "stream",
     "text": [
      "\n",
      "\n",
      "ModelMetricsRegression: deeplearning\n",
      "** Reported on train data. **\n",
      "\n",
      "MSE: 176.13719020374523\n",
      "RMSE: 13.271668704565572\n",
      "MAE: 10.631862237948535\n",
      "RMSLE: 0.0032331831801935495\n",
      "Mean Residual Deviance: 176.13719020374523\n",
      "\n",
      "Scoring History: \n"
     ]
    },
    {
     "data": {
      "text/html": [
       "<div>\n",
       "<style scoped>\n",
       "    .dataframe tbody tr th:only-of-type {\n",
       "        vertical-align: middle;\n",
       "    }\n",
       "\n",
       "    .dataframe tbody tr th {\n",
       "        vertical-align: top;\n",
       "    }\n",
       "\n",
       "    .dataframe thead th {\n",
       "        text-align: right;\n",
       "    }\n",
       "</style>\n",
       "<table border=\"1\" class=\"dataframe\">\n",
       "  <thead>\n",
       "    <tr style=\"text-align: right;\">\n",
       "      <th></th>\n",
       "      <th></th>\n",
       "      <th>timestamp</th>\n",
       "      <th>duration</th>\n",
       "      <th>training_speed</th>\n",
       "      <th>epochs</th>\n",
       "      <th>iterations</th>\n",
       "      <th>samples</th>\n",
       "      <th>training_rmse</th>\n",
       "      <th>training_deviance</th>\n",
       "      <th>training_mae</th>\n",
       "      <th>training_r2</th>\n",
       "    </tr>\n",
       "  </thead>\n",
       "  <tbody>\n",
       "    <tr>\n",
       "      <th>0</th>\n",
       "      <td></td>\n",
       "      <td>2022-08-16 15:02:02</td>\n",
       "      <td>0.000 sec</td>\n",
       "      <td>None</td>\n",
       "      <td>0.0</td>\n",
       "      <td>0</td>\n",
       "      <td>0.0</td>\n",
       "      <td>NaN</td>\n",
       "      <td>NaN</td>\n",
       "      <td>NaN</td>\n",
       "      <td>NaN</td>\n",
       "    </tr>\n",
       "    <tr>\n",
       "      <th>1</th>\n",
       "      <td></td>\n",
       "      <td>2022-08-16 15:02:03</td>\n",
       "      <td>0.681 sec</td>\n",
       "      <td>513 obs/sec</td>\n",
       "      <td>1.0</td>\n",
       "      <td>1</td>\n",
       "      <td>240.0</td>\n",
       "      <td>14.890516</td>\n",
       "      <td>221.727462</td>\n",
       "      <td>11.568575</td>\n",
       "      <td>0.635002</td>\n",
       "    </tr>\n",
       "    <tr>\n",
       "      <th>2</th>\n",
       "      <td></td>\n",
       "      <td>2022-08-16 15:02:04</td>\n",
       "      <td>1.353 sec</td>\n",
       "      <td>2131 obs/sec</td>\n",
       "      <td>10.0</td>\n",
       "      <td>10</td>\n",
       "      <td>2400.0</td>\n",
       "      <td>13.271669</td>\n",
       "      <td>176.137190</td>\n",
       "      <td>10.631862</td>\n",
       "      <td>0.710051</td>\n",
       "    </tr>\n",
       "  </tbody>\n",
       "</table>\n",
       "</div>"
      ],
      "text/plain": [
       "               timestamp    duration training_speed  epochs  iterations  \\\n",
       "0    2022-08-16 15:02:02   0.000 sec           None     0.0           0   \n",
       "1    2022-08-16 15:02:03   0.681 sec    513 obs/sec     1.0           1   \n",
       "2    2022-08-16 15:02:04   1.353 sec   2131 obs/sec    10.0          10   \n",
       "\n",
       "   samples  training_rmse  training_deviance  training_mae  training_r2  \n",
       "0      0.0            NaN                NaN           NaN          NaN  \n",
       "1    240.0      14.890516         221.727462     11.568575     0.635002  \n",
       "2   2400.0      13.271669         176.137190     10.631862     0.710051  "
      ]
     },
     "metadata": {},
     "output_type": "display_data"
    },
    {
     "name": "stdout",
     "output_type": "stream",
     "text": [
      "\n",
      "Variable Importances: \n"
     ]
    },
    {
     "data": {
      "text/html": [
       "<div>\n",
       "<style scoped>\n",
       "    .dataframe tbody tr th:only-of-type {\n",
       "        vertical-align: middle;\n",
       "    }\n",
       "\n",
       "    .dataframe tbody tr th {\n",
       "        vertical-align: top;\n",
       "    }\n",
       "\n",
       "    .dataframe thead th {\n",
       "        text-align: right;\n",
       "    }\n",
       "</style>\n",
       "<table border=\"1\" class=\"dataframe\">\n",
       "  <thead>\n",
       "    <tr style=\"text-align: right;\">\n",
       "      <th></th>\n",
       "      <th>variable</th>\n",
       "      <th>relative_importance</th>\n",
       "      <th>scaled_importance</th>\n",
       "      <th>percentage</th>\n",
       "    </tr>\n",
       "  </thead>\n",
       "  <tbody>\n",
       "    <tr>\n",
       "      <th>0</th>\n",
       "      <td>egg_weight</td>\n",
       "      <td>1.000000</td>\n",
       "      <td>1.000000</td>\n",
       "      <td>0.528295</td>\n",
       "    </tr>\n",
       "    <tr>\n",
       "      <th>1</th>\n",
       "      <td>acc_food</td>\n",
       "      <td>0.892882</td>\n",
       "      <td>0.892882</td>\n",
       "      <td>0.471705</td>\n",
       "    </tr>\n",
       "  </tbody>\n",
       "</table>\n",
       "</div>"
      ],
      "text/plain": [
       "     variable  relative_importance  scaled_importance  percentage\n",
       "0  egg_weight             1.000000           1.000000    0.528295\n",
       "1    acc_food             0.892882           0.892882    0.471705"
      ]
     },
     "metadata": {},
     "output_type": "display_data"
    },
    {
     "data": {
      "text/plain": []
     },
     "execution_count": 53,
     "metadata": {},
     "output_type": "execute_result"
    }
   ],
   "source": [
    "#모델 정보 확인\n",
    "model_h2o\n",
    "\n",
    "#입력층 layer는 1로, unit(노드)가 종란 무게와 누적 사료량으로 2개\n",
    "#은닉층 layer는 2,3, unit이 200개씩이고 type은 활성화 함수를 뜻하며 기본 값으로ReLu가 지정되어 있음\n",
    "#출력층 layer는 4, unit은 몸무게 하나이며 연속형 변수이기 때문에 type으로 linear가 지정됨"
   ]
  },
  {
   "cell_type": "code",
   "execution_count": 54,
   "metadata": {},
   "outputs": [
    {
     "name": "stdout",
     "output_type": "stream",
     "text": [
      "\n",
      "ModelMetricsRegression: deeplearning\n",
      "** Reported on train data. **\n",
      "\n",
      "MSE: 176.13719020374523\n",
      "RMSE: 13.271668704565572\n",
      "MAE: 10.631862237948535\n",
      "RMSLE: 0.0032331831801935495\n",
      "Mean Residual Deviance: 176.13719020374523\n"
     ]
    },
    {
     "data": {
      "text/plain": []
     },
     "execution_count": 54,
     "metadata": {},
     "output_type": "execute_result"
    }
   ],
   "source": [
    "#모델 성능만 확인\n",
    "model_h2o.model_performance()\n",
    "\n",
    "\n",
    "#RMSE가 125에서 13으로 급격하게 줄음"
   ]
  },
  {
   "cell_type": "code",
   "execution_count": 55,
   "metadata": {},
   "outputs": [
    {
     "data": {
      "text/plain": [
       "0.7100506294338134"
      ]
     },
     "execution_count": 55,
     "metadata": {},
     "output_type": "execute_result"
    }
   ],
   "source": [
    "#모델 성능 지표 R_squared 확인\n",
    "model_h2o.r2()\n",
    "\n",
    "#음수에서 0.71로 1에 많이 가까워짐"
   ]
  },
  {
   "cell_type": "code",
   "execution_count": 56,
   "metadata": {},
   "outputs": [
    {
     "name": "stdout",
     "output_type": "stream",
     "text": [
      "deeplearning prediction progress: |██████████████████████████████████████████████| (done) 100%\n"
     ]
    }
   ],
   "source": [
    "# 예측값 생성\n",
    "y_pred_h2o = model_h2o.predict(hf_test)"
   ]
  },
  {
   "cell_type": "code",
   "execution_count": 57,
   "metadata": {},
   "outputs": [
    {
     "data": {
      "text/html": [
       "<table>\n",
       "<thead>\n",
       "<tr><th style=\"text-align: right;\">  predict</th></tr>\n",
       "</thead>\n",
       "<tbody>\n",
       "<tr><td style=\"text-align: right;\">  4082.87</td></tr>\n",
       "<tr><td style=\"text-align: right;\">  4125.84</td></tr>\n",
       "<tr><td style=\"text-align: right;\">  4071.45</td></tr>\n",
       "<tr><td style=\"text-align: right;\">  4088.96</td></tr>\n",
       "<tr><td style=\"text-align: right;\">  4126.35</td></tr>\n",
       "<tr><td style=\"text-align: right;\">  4126.02</td></tr>\n",
       "<tr><td style=\"text-align: right;\">  4089.61</td></tr>\n",
       "<tr><td style=\"text-align: right;\">  4127.79</td></tr>\n",
       "<tr><td style=\"text-align: right;\">  4122.35</td></tr>\n",
       "<tr><td style=\"text-align: right;\">  4124.75</td></tr>\n",
       "</tbody>\n",
       "</table>"
      ]
     },
     "metadata": {},
     "output_type": "display_data"
    },
    {
     "data": {
      "text/plain": []
     },
     "execution_count": 57,
     "metadata": {},
     "output_type": "execute_result"
    }
   ],
   "source": [
    "y_pred_h2o.head()"
   ]
  },
  {
   "cell_type": "code",
   "execution_count": 58,
   "metadata": {},
   "outputs": [],
   "source": [
    "#테스트용 데이터 셋에 예측값 predict열로 추가\n",
    "hf_result = hf_test.cbind(y_pred_h2o)"
   ]
  },
  {
   "cell_type": "code",
   "execution_count": 59,
   "metadata": {},
   "outputs": [
    {
     "data": {
      "text/html": [
       "<table>\n",
       "<thead>\n",
       "<tr><th style=\"text-align: right;\">  egg_weight</th><th style=\"text-align: right;\">  acc_food</th><th style=\"text-align: right;\">  weight</th><th style=\"text-align: right;\">  predict</th></tr>\n",
       "</thead>\n",
       "<tbody>\n",
       "<tr><td style=\"text-align: right;\">          57</td><td style=\"text-align: right;\">      9982</td><td style=\"text-align: right;\">    4079</td><td style=\"text-align: right;\">  4082.87</td></tr>\n",
       "<tr><td style=\"text-align: right;\">          77</td><td style=\"text-align: right;\">     10803</td><td style=\"text-align: right;\">    4131</td><td style=\"text-align: right;\">  4125.84</td></tr>\n",
       "<tr><td style=\"text-align: right;\">          54</td><td style=\"text-align: right;\">      9858</td><td style=\"text-align: right;\">    4065</td><td style=\"text-align: right;\">  4071.45</td></tr>\n",
       "<tr><td style=\"text-align: right;\">          59</td><td style=\"text-align: right;\">     10019</td><td style=\"text-align: right;\">    4095</td><td style=\"text-align: right;\">  4088.96</td></tr>\n",
       "<tr><td style=\"text-align: right;\">          77</td><td style=\"text-align: right;\">     10757</td><td style=\"text-align: right;\">    4108</td><td style=\"text-align: right;\">  4126.35</td></tr>\n",
       "<tr><td style=\"text-align: right;\">          77</td><td style=\"text-align: right;\">     10787</td><td style=\"text-align: right;\">    4123</td><td style=\"text-align: right;\">  4126.02</td></tr>\n",
       "<tr><td style=\"text-align: right;\">          57</td><td style=\"text-align: right;\">     10143</td><td style=\"text-align: right;\">    4074</td><td style=\"text-align: right;\">  4089.61</td></tr>\n",
       "<tr><td style=\"text-align: right;\">          75</td><td style=\"text-align: right;\">     10826</td><td style=\"text-align: right;\">    4138</td><td style=\"text-align: right;\">  4127.79</td></tr>\n",
       "<tr><td style=\"text-align: right;\">          80</td><td style=\"text-align: right;\">     10944</td><td style=\"text-align: right;\">    4112</td><td style=\"text-align: right;\">  4122.35</td></tr>\n",
       "<tr><td style=\"text-align: right;\">          69</td><td style=\"text-align: right;\">     10298</td><td style=\"text-align: right;\">    4114</td><td style=\"text-align: right;\">  4124.75</td></tr>\n",
       "</tbody>\n",
       "</table>"
      ]
     },
     "metadata": {},
     "output_type": "display_data"
    },
    {
     "data": {
      "text/plain": []
     },
     "execution_count": 59,
     "metadata": {},
     "output_type": "execute_result"
    }
   ],
   "source": [
    "hf_result.head()"
   ]
  },
  {
   "cell_type": "code",
   "execution_count": 60,
   "metadata": {},
   "outputs": [],
   "source": [
    "#모듈 이용을 위해 h2oframe에서 ndarray로 변경\n",
    "y_test2= hf_result[2].as_data_frame().values\n",
    "y_pred_h2o=hf_result[3].as_data_frame().values"
   ]
  },
  {
   "cell_type": "code",
   "execution_count": 61,
   "metadata": {},
   "outputs": [],
   "source": [
    "#회귀 성능 지표 계산용 함수 불러오기 및 계산\n",
    "from sklearn.metrics import mean_squared_error, mean_absolute_error, r2_score"
   ]
  },
  {
   "cell_type": "code",
   "execution_count": 62,
   "metadata": {},
   "outputs": [
    {
     "data": {
      "text/plain": [
       "(14.964319859199726, 12.81070478212918, 0.596671145552216)"
      ]
     },
     "execution_count": 62,
     "metadata": {},
     "output_type": "execute_result"
    }
   ],
   "source": [
    "#squared=True 일 경우 MSE, False일 경우 RMSE\n",
    "RMSE=mean_squared_error(y_test2, y_pred_h2o, squared=False)\n",
    "MAE=mean_absolute_error(y_test2, y_pred_h2o)\n",
    "R_squared=r2_score(y_test2, y_pred_h2o)\n",
    "RMSE, MAE, R_squared"
   ]
  },
  {
   "cell_type": "markdown",
   "metadata": {},
   "source": [
    "## 7.2 분류"
   ]
  },
  {
   "cell_type": "markdown",
   "metadata": {},
   "source": [
    "### 7.2.1 Keras 활용 딥 러닝 구현 (분류)"
   ]
  },
  {
   "cell_type": "code",
   "execution_count": 63,
   "metadata": {},
   "outputs": [
    {
     "name": "stdout",
     "output_type": "stream",
     "text": [
      "Requirement already satisfied: tensorflow in c:\\project\\lib\\site-packages (2.5.0)\n",
      "Requirement already satisfied: grpcio~=1.34.0 in c:\\project\\lib\\site-packages (from tensorflow) (1.34.1)\n",
      "Requirement already satisfied: opt-einsum~=3.3.0 in c:\\project\\lib\\site-packages (from tensorflow) (3.3.0)\n",
      "Requirement already satisfied: keras-preprocessing~=1.1.2 in c:\\project\\lib\\site-packages (from tensorflow) (1.1.2)\n",
      "Requirement already satisfied: wrapt~=1.12.1 in c:\\project\\lib\\site-packages (from tensorflow) (1.12.1)\n",
      "Requirement already satisfied: google-pasta~=0.2 in c:\\project\\lib\\site-packages (from tensorflow) (0.2.0)\n",
      "Requirement already satisfied: six~=1.15.0 in c:\\project\\lib\\site-packages (from tensorflow) (1.15.0)\n",
      "Requirement already satisfied: numpy~=1.19.2 in c:\\project\\lib\\site-packages (from tensorflow) (1.19.5)\n",
      "Requirement already satisfied: astunparse~=1.6.3 in c:\\project\\lib\\site-packages (from tensorflow) (1.6.3)\n",
      "Requirement already satisfied: tensorboard~=2.5 in c:\\project\\lib\\site-packages (from tensorflow) (2.5.0)\n",
      "Requirement already satisfied: h5py~=3.1.0 in c:\\project\\lib\\site-packages (from tensorflow) (3.1.0)\n",
      "Requirement already satisfied: flatbuffers~=1.12.0 in c:\\project\\lib\\site-packages (from tensorflow) (1.12)\n",
      "Requirement already satisfied: termcolor~=1.1.0 in c:\\project\\lib\\site-packages (from tensorflow) (1.1.0)\n",
      "Requirement already satisfied: absl-py~=0.10 in c:\\project\\lib\\site-packages (from tensorflow) (0.12.0)\n",
      "Requirement already satisfied: tensorflow-estimator<2.6.0,>=2.5.0rc0 in c:\\project\\lib\\site-packages (from tensorflow) (2.5.0)\n",
      "Requirement already satisfied: keras-nightly~=2.5.0.dev in c:\\project\\lib\\site-packages (from tensorflow) (2.5.0.dev2021032900)\n",
      "Requirement already satisfied: gast==0.4.0 in c:\\project\\lib\\site-packages (from tensorflow) (0.4.0)\n",
      "Requirement already satisfied: wheel~=0.35 in c:\\project\\lib\\site-packages (from tensorflow) (0.36.2)\n",
      "Requirement already satisfied: typing-extensions~=3.7.4 in c:\\project\\lib\\site-packages (from tensorflow) (3.7.4.3)\n",
      "Requirement already satisfied: protobuf>=3.9.2 in c:\\project\\lib\\site-packages (from tensorflow) (3.17.1)\n",
      "Requirement already satisfied: google-auth-oauthlib<0.5,>=0.4.1 in c:\\project\\lib\\site-packages (from tensorboard~=2.5->tensorflow) (0.4.4)\n",
      "Requirement already satisfied: markdown>=2.6.8 in c:\\project\\lib\\site-packages (from tensorboard~=2.5->tensorflow) (3.3.4)\n",
      "Requirement already satisfied: google-auth<2,>=1.6.3 in c:\\project\\lib\\site-packages (from tensorboard~=2.5->tensorflow) (1.30.1)\n",
      "Requirement already satisfied: requests<3,>=2.21.0 in c:\\project\\lib\\site-packages (from tensorboard~=2.5->tensorflow) (2.22.0)\n",
      "Requirement already satisfied: tensorboard-data-server<0.7.0,>=0.6.0 in c:\\project\\lib\\site-packages (from tensorboard~=2.5->tensorflow) (0.6.1)\n",
      "Requirement already satisfied: tensorboard-plugin-wit>=1.6.0 in c:\\project\\lib\\site-packages (from tensorboard~=2.5->tensorflow) (1.8.0)\n",
      "Requirement already satisfied: setuptools>=41.0.0 in c:\\project\\lib\\site-packages (from tensorboard~=2.5->tensorflow) (57.4.0)\n",
      "Requirement already satisfied: werkzeug>=0.11.15 in c:\\project\\lib\\site-packages (from tensorboard~=2.5->tensorflow) (0.16.0)\n",
      "Requirement already satisfied: cached-property; python_version < \"3.8\" in c:\\project\\lib\\site-packages (from h5py~=3.1.0->tensorflow) (1.5.2)\n",
      "Requirement already satisfied: requests-oauthlib>=0.7.0 in c:\\project\\lib\\site-packages (from google-auth-oauthlib<0.5,>=0.4.1->tensorboard~=2.5->tensorflow) (1.3.0)\n",
      "Requirement already satisfied: importlib-metadata; python_version < \"3.8\" in c:\\project\\lib\\site-packages (from markdown>=2.6.8->tensorboard~=2.5->tensorflow) (0.23)\n",
      "Requirement already satisfied: rsa<5,>=3.1.4; python_version >= \"3.6\" in c:\\project\\lib\\site-packages (from google-auth<2,>=1.6.3->tensorboard~=2.5->tensorflow) (4.7.2)\n",
      "Requirement already satisfied: cachetools<5.0,>=2.0.0 in c:\\project\\lib\\site-packages (from google-auth<2,>=1.6.3->tensorboard~=2.5->tensorflow) (4.2.2)\n",
      "Requirement already satisfied: pyasn1-modules>=0.2.1 in c:\\project\\lib\\site-packages (from google-auth<2,>=1.6.3->tensorboard~=2.5->tensorflow) (0.2.8)\n",
      "Requirement already satisfied: certifi>=2017.4.17 in c:\\project\\lib\\site-packages (from requests<3,>=2.21.0->tensorboard~=2.5->tensorflow) (2019.9.11)\n",
      "Requirement already satisfied: urllib3!=1.25.0,!=1.25.1,<1.26,>=1.21.1 in c:\\project\\lib\\site-packages (from requests<3,>=2.21.0->tensorboard~=2.5->tensorflow) (1.24.2)\n",
      "Requirement already satisfied: chardet<3.1.0,>=3.0.2 in c:\\project\\lib\\site-packages (from requests<3,>=2.21.0->tensorboard~=2.5->tensorflow) (3.0.4)\n",
      "Requirement already satisfied: idna<2.9,>=2.5 in c:\\project\\lib\\site-packages (from requests<3,>=2.21.0->tensorboard~=2.5->tensorflow) (2.8)\n",
      "Requirement already satisfied: oauthlib>=3.0.0 in c:\\project\\lib\\site-packages (from requests-oauthlib>=0.7.0->google-auth-oauthlib<0.5,>=0.4.1->tensorboard~=2.5->tensorflow) (3.1.0)\n",
      "Requirement already satisfied: zipp>=0.5 in c:\\project\\lib\\site-packages (from importlib-metadata; python_version < \"3.8\"->markdown>=2.6.8->tensorboard~=2.5->tensorflow) (0.6.0)\n",
      "Requirement already satisfied: pyasn1>=0.1.3 in c:\\project\\lib\\site-packages (from rsa<5,>=3.1.4; python_version >= \"3.6\"->google-auth<2,>=1.6.3->tensorboard~=2.5->tensorflow) (0.4.8)\n",
      "Requirement already satisfied: more-itertools in c:\\project\\lib\\site-packages (from zipp>=0.5->importlib-metadata; python_version < \"3.8\"->markdown>=2.6.8->tensorboard~=2.5->tensorflow) (7.2.0)\n"
     ]
    },
    {
     "name": "stderr",
     "output_type": "stream",
     "text": [
      "ERROR: unknown command \"iinstall\" - maybe you meant \"install\"\n",
      "\n"
     ]
    }
   ],
   "source": [
    "#tensorflow & keras 설치\n",
    "!pip install tensorflow\n",
    "!pip iinstall keras"
   ]
  },
  {
   "cell_type": "code",
   "execution_count": 66,
   "metadata": {},
   "outputs": [],
   "source": [
    "#딥러닝용 함수 불러오기\n",
    "from tensorflow import keras\n",
    "from keras.models import Sequential\n",
    "from keras.layers import Input, Dense"
   ]
  },
  {
   "cell_type": "code",
   "execution_count": 72,
   "metadata": {},
   "outputs": [],
   "source": [
    "#실습용 데이터 불러오기\n",
    "import pandas as pd\n",
    "df_train = pd.read_csv('ch6-2_train.csv')\n",
    "df_test = pd.read_csv('ch6-2_test.csv')"
   ]
  },
  {
   "cell_type": "code",
   "execution_count": 73,
   "metadata": {},
   "outputs": [],
   "source": [
    "# 훈련, 테스트 셋 각각 x,y로 분할, ndarray 타입\n",
    "x_train=df_train.iloc[:,0:3].values\n",
    "y_train=df_train.iloc[:,3].values\n",
    "x_test=df_test.iloc[:,0:3].values\n",
    "y_test=df_test.iloc[:,3].values"
   ]
  },
  {
   "cell_type": "code",
   "execution_count": 74,
   "metadata": {},
   "outputs": [
    {
     "data": {
      "text/html": [
       "<div>\n",
       "<style scoped>\n",
       "    .dataframe tbody tr th:only-of-type {\n",
       "        vertical-align: middle;\n",
       "    }\n",
       "\n",
       "    .dataframe tbody tr th {\n",
       "        vertical-align: top;\n",
       "    }\n",
       "\n",
       "    .dataframe thead th {\n",
       "        text-align: right;\n",
       "    }\n",
       "</style>\n",
       "<table border=\"1\" class=\"dataframe\">\n",
       "  <thead>\n",
       "    <tr style=\"text-align: right;\">\n",
       "      <th></th>\n",
       "      <th>wing_length</th>\n",
       "      <th>tail_length</th>\n",
       "      <th>comb_height</th>\n",
       "    </tr>\n",
       "  </thead>\n",
       "  <tbody>\n",
       "    <tr>\n",
       "      <th>count</th>\n",
       "      <td>60.000000</td>\n",
       "      <td>60.000000</td>\n",
       "      <td>60.000000</td>\n",
       "    </tr>\n",
       "    <tr>\n",
       "      <th>mean</th>\n",
       "      <td>237.983333</td>\n",
       "      <td>68.383333</td>\n",
       "      <td>34.066667</td>\n",
       "    </tr>\n",
       "    <tr>\n",
       "      <th>std</th>\n",
       "      <td>13.663624</td>\n",
       "      <td>3.527575</td>\n",
       "      <td>1.998870</td>\n",
       "    </tr>\n",
       "    <tr>\n",
       "      <th>min</th>\n",
       "      <td>211.000000</td>\n",
       "      <td>62.000000</td>\n",
       "      <td>30.000000</td>\n",
       "    </tr>\n",
       "    <tr>\n",
       "      <th>25%</th>\n",
       "      <td>228.750000</td>\n",
       "      <td>65.750000</td>\n",
       "      <td>33.000000</td>\n",
       "    </tr>\n",
       "    <tr>\n",
       "      <th>50%</th>\n",
       "      <td>238.500000</td>\n",
       "      <td>68.500000</td>\n",
       "      <td>34.000000</td>\n",
       "    </tr>\n",
       "    <tr>\n",
       "      <th>75%</th>\n",
       "      <td>250.000000</td>\n",
       "      <td>71.000000</td>\n",
       "      <td>35.000000</td>\n",
       "    </tr>\n",
       "    <tr>\n",
       "      <th>max</th>\n",
       "      <td>260.000000</td>\n",
       "      <td>74.000000</td>\n",
       "      <td>38.000000</td>\n",
       "    </tr>\n",
       "  </tbody>\n",
       "</table>\n",
       "</div>"
      ],
      "text/plain": [
       "       wing_length  tail_length  comb_height\n",
       "count    60.000000    60.000000    60.000000\n",
       "mean    237.983333    68.383333    34.066667\n",
       "std      13.663624     3.527575     1.998870\n",
       "min     211.000000    62.000000    30.000000\n",
       "25%     228.750000    65.750000    33.000000\n",
       "50%     238.500000    68.500000    34.000000\n",
       "75%     250.000000    71.000000    35.000000\n",
       "max     260.000000    74.000000    38.000000"
      ]
     },
     "execution_count": 74,
     "metadata": {},
     "output_type": "execute_result"
    }
   ],
   "source": [
    "#독립변수 분포 확인\n",
    "df_test.describe()"
   ]
  },
  {
   "cell_type": "code",
   "execution_count": 76,
   "metadata": {},
   "outputs": [
    {
     "data": {
      "image/png": "[encoded data removed]",
      "text/plain": [
       "<Figure size 1080x720 with 1 Axes>"
      ]
     },
     "metadata": {
      "needs_background": "light"
     },
     "output_type": "display_data"
    }
   ],
   "source": [
    "#히스토그램으로 독립변수 분포 확인\n",
    "import matplotlib.pyplot as plt\n",
    "plt.figure(figsize=(15,10))\n",
    "plt.hist(df_train.wing_length, label='wing_length')\n",
    "plt.hist(df_train.tail_length, label='tail_length')\n",
    "plt.hist(df_train.comb_height, label='comb_height')\n",
    "plt.legend()\n",
    "plt.show()"
   ]
  },
  {
   "cell_type": "code",
   "execution_count": 81,
   "metadata": {},
   "outputs": [],
   "source": [
    "#스케일링하기 위한 함수 불러오기\n",
    "from sklearn.preprocessing import MinMaxScaler"
   ]
  },
  {
   "cell_type": "code",
   "execution_count": 82,
   "metadata": {},
   "outputs": [],
   "source": [
    "#x_train 데이터로 학습한 스케일러 생성\n",
    "mms=MinMaxScaler().fit(x_train)"
   ]
  },
  {
   "cell_type": "code",
   "execution_count": 83,
   "metadata": {},
   "outputs": [],
   "source": [
    "#스케일링\n",
    "mm_x_train=mms.transform(x_train)\n",
    "mm_x_test=mms.transform(x_test)"
   ]
  },
  {
   "cell_type": "code",
   "execution_count": 84,
   "metadata": {},
   "outputs": [
    {
     "data": {
      "text/plain": [
       "array([[0.55102041, 0.08333333, 0.5       ],\n",
       "       [0.51020408, 0.41666667, 0.        ],\n",
       "       [0.91836735, 0.25      , 0.5       ],\n",
       "       [0.59183673, 0.08333333, 0.625     ],\n",
       "       [0.71428571, 0.25      , 0.        ]])"
      ]
     },
     "execution_count": 84,
     "metadata": {},
     "output_type": "execute_result"
    }
   ],
   "source": [
    "mm_x_train[0:5]"
   ]
  },
  {
   "cell_type": "code",
   "execution_count": 86,
   "metadata": {},
   "outputs": [
    {
     "data": {
      "text/plain": [
       "(0.0, 1.0)"
      ]
     },
     "execution_count": 86,
     "metadata": {},
     "output_type": "execute_result"
    }
   ],
   "source": [
    "#최소, 최대값 확인\n",
    "mm_x_train.min(), mm_x_train.max()"
   ]
  },
  {
   "cell_type": "code",
   "execution_count": 87,
   "metadata": {},
   "outputs": [
    {
     "data": {
      "text/plain": [
       "array(['a', 'a', 'a', 'a', 'a'], dtype=object)"
      ]
     },
     "execution_count": 87,
     "metadata": {},
     "output_type": "execute_result"
    }
   ],
   "source": [
    "#종속변수 확인\n",
    "y_train[0:5]"
   ]
  },
  {
   "cell_type": "code",
   "execution_count": 88,
   "metadata": {},
   "outputs": [],
   "source": [
    "#원핫인코딩\n",
    "from sklearn.preprocessing import LabelBinarizer\n",
    "# y_train 데이터로 학습한 라벨바이너리저 생성\n",
    "lb = LabelBinarizer().fit(y_train)"
   ]
  },
  {
   "cell_type": "code",
   "execution_count": 89,
   "metadata": {},
   "outputs": [],
   "source": [
    "#종속변수 a,b,c를 2진수로 원핫인코딩\n",
    "o_y_train=lb.transform(y_train)\n",
    "o_y_test=lb.transform(y_test)"
   ]
  },
  {
   "cell_type": "code",
   "execution_count": 90,
   "metadata": {},
   "outputs": [
    {
     "data": {
      "text/plain": [
       "array([[1, 0, 0],\n",
       "       [1, 0, 0],\n",
       "       [1, 0, 0],\n",
       "       [1, 0, 0],\n",
       "       [1, 0, 0],\n",
       "       [1, 0, 0],\n",
       "       [1, 0, 0],\n",
       "       [1, 0, 0],\n",
       "       [1, 0, 0],\n",
       "       [1, 0, 0],\n",
       "       [1, 0, 0],\n",
       "       [1, 0, 0],\n",
       "       [1, 0, 0],\n",
       "       [1, 0, 0],\n",
       "       [1, 0, 0],\n",
       "       [1, 0, 0],\n",
       "       [1, 0, 0],\n",
       "       [1, 0, 0],\n",
       "       [1, 0, 0],\n",
       "       [1, 0, 0],\n",
       "       [1, 0, 0],\n",
       "       [1, 0, 0],\n",
       "       [1, 0, 0],\n",
       "       [1, 0, 0],\n",
       "       [1, 0, 0],\n",
       "       [1, 0, 0],\n",
       "       [1, 0, 0],\n",
       "       [1, 0, 0],\n",
       "       [1, 0, 0],\n",
       "       [1, 0, 0],\n",
       "       [1, 0, 0],\n",
       "       [1, 0, 0],\n",
       "       [1, 0, 0],\n",
       "       [1, 0, 0],\n",
       "       [1, 0, 0],\n",
       "       [1, 0, 0],\n",
       "       [1, 0, 0],\n",
       "       [1, 0, 0],\n",
       "       [1, 0, 0],\n",
       "       [1, 0, 0],\n",
       "       [1, 0, 0],\n",
       "       [1, 0, 0],\n",
       "       [1, 0, 0],\n",
       "       [1, 0, 0],\n",
       "       [1, 0, 0],\n",
       "       [1, 0, 0],\n",
       "       [1, 0, 0],\n",
       "       [1, 0, 0],\n",
       "       [1, 0, 0],\n",
       "       [1, 0, 0],\n",
       "       [1, 0, 0],\n",
       "       [1, 0, 0],\n",
       "       [1, 0, 0],\n",
       "       [1, 0, 0],\n",
       "       [1, 0, 0],\n",
       "       [1, 0, 0],\n",
       "       [1, 0, 0],\n",
       "       [1, 0, 0],\n",
       "       [1, 0, 0],\n",
       "       [1, 0, 0],\n",
       "       [1, 0, 0],\n",
       "       [1, 0, 0],\n",
       "       [1, 0, 0],\n",
       "       [1, 0, 0],\n",
       "       [1, 0, 0],\n",
       "       [1, 0, 0],\n",
       "       [1, 0, 0],\n",
       "       [1, 0, 0],\n",
       "       [1, 0, 0],\n",
       "       [1, 0, 0],\n",
       "       [1, 0, 0],\n",
       "       [1, 0, 0],\n",
       "       [1, 0, 0],\n",
       "       [1, 0, 0],\n",
       "       [1, 0, 0],\n",
       "       [1, 0, 0],\n",
       "       [1, 0, 0],\n",
       "       [1, 0, 0],\n",
       "       [1, 0, 0],\n",
       "       [1, 0, 0],\n",
       "       [0, 1, 0],\n",
       "       [0, 1, 0],\n",
       "       [0, 1, 0],\n",
       "       [0, 1, 0],\n",
       "       [0, 1, 0],\n",
       "       [0, 1, 0],\n",
       "       [0, 1, 0],\n",
       "       [0, 1, 0],\n",
       "       [0, 1, 0],\n",
       "       [0, 1, 0],\n",
       "       [0, 1, 0],\n",
       "       [0, 1, 0],\n",
       "       [0, 1, 0],\n",
       "       [0, 1, 0],\n",
       "       [0, 1, 0],\n",
       "       [0, 1, 0],\n",
       "       [0, 1, 0],\n",
       "       [0, 1, 0],\n",
       "       [0, 1, 0],\n",
       "       [0, 1, 0],\n",
       "       [0, 1, 0],\n",
       "       [0, 1, 0],\n",
       "       [0, 1, 0],\n",
       "       [0, 1, 0],\n",
       "       [0, 1, 0],\n",
       "       [0, 1, 0],\n",
       "       [0, 1, 0],\n",
       "       [0, 1, 0],\n",
       "       [0, 1, 0],\n",
       "       [0, 1, 0],\n",
       "       [0, 1, 0],\n",
       "       [0, 1, 0],\n",
       "       [0, 1, 0],\n",
       "       [0, 1, 0],\n",
       "       [0, 1, 0],\n",
       "       [0, 1, 0],\n",
       "       [0, 1, 0],\n",
       "       [0, 1, 0],\n",
       "       [0, 1, 0],\n",
       "       [0, 1, 0],\n",
       "       [0, 1, 0],\n",
       "       [0, 1, 0],\n",
       "       [0, 1, 0],\n",
       "       [0, 1, 0],\n",
       "       [0, 1, 0],\n",
       "       [0, 1, 0],\n",
       "       [0, 1, 0],\n",
       "       [0, 1, 0],\n",
       "       [0, 1, 0],\n",
       "       [0, 1, 0],\n",
       "       [0, 1, 0],\n",
       "       [0, 1, 0],\n",
       "       [0, 1, 0],\n",
       "       [0, 1, 0],\n",
       "       [0, 1, 0],\n",
       "       [0, 1, 0],\n",
       "       [0, 1, 0],\n",
       "       [0, 1, 0],\n",
       "       [0, 1, 0],\n",
       "       [0, 1, 0],\n",
       "       [0, 1, 0],\n",
       "       [0, 1, 0],\n",
       "       [0, 1, 0],\n",
       "       [0, 1, 0],\n",
       "       [0, 1, 0],\n",
       "       [0, 1, 0],\n",
       "       [0, 1, 0],\n",
       "       [0, 1, 0],\n",
       "       [0, 1, 0],\n",
       "       [0, 1, 0],\n",
       "       [0, 1, 0],\n",
       "       [0, 1, 0],\n",
       "       [0, 1, 0],\n",
       "       [0, 1, 0],\n",
       "       [0, 1, 0],\n",
       "       [0, 1, 0],\n",
       "       [0, 1, 0],\n",
       "       [0, 1, 0],\n",
       "       [0, 1, 0],\n",
       "       [0, 1, 0],\n",
       "       [0, 0, 1],\n",
       "       [0, 0, 1],\n",
       "       [0, 0, 1],\n",
       "       [0, 0, 1],\n",
       "       [0, 0, 1],\n",
       "       [0, 0, 1],\n",
       "       [0, 0, 1],\n",
       "       [0, 0, 1],\n",
       "       [0, 0, 1],\n",
       "       [0, 0, 1],\n",
       "       [0, 0, 1],\n",
       "       [0, 0, 1],\n",
       "       [0, 0, 1],\n",
       "       [0, 0, 1],\n",
       "       [0, 0, 1],\n",
       "       [0, 0, 1],\n",
       "       [0, 0, 1],\n",
       "       [0, 0, 1],\n",
       "       [0, 0, 1],\n",
       "       [0, 0, 1],\n",
       "       [0, 0, 1],\n",
       "       [0, 0, 1],\n",
       "       [0, 0, 1],\n",
       "       [0, 0, 1],\n",
       "       [0, 0, 1],\n",
       "       [0, 0, 1],\n",
       "       [0, 0, 1],\n",
       "       [0, 0, 1],\n",
       "       [0, 0, 1],\n",
       "       [0, 0, 1],\n",
       "       [0, 0, 1],\n",
       "       [0, 0, 1],\n",
       "       [0, 0, 1],\n",
       "       [0, 0, 1],\n",
       "       [0, 0, 1],\n",
       "       [0, 0, 1],\n",
       "       [0, 0, 1],\n",
       "       [0, 0, 1],\n",
       "       [0, 0, 1],\n",
       "       [0, 0, 1],\n",
       "       [0, 0, 1],\n",
       "       [0, 0, 1],\n",
       "       [0, 0, 1],\n",
       "       [0, 0, 1],\n",
       "       [0, 0, 1],\n",
       "       [0, 0, 1],\n",
       "       [0, 0, 1],\n",
       "       [0, 0, 1],\n",
       "       [0, 0, 1],\n",
       "       [0, 0, 1],\n",
       "       [0, 0, 1],\n",
       "       [0, 0, 1],\n",
       "       [0, 0, 1],\n",
       "       [0, 0, 1],\n",
       "       [0, 0, 1],\n",
       "       [0, 0, 1],\n",
       "       [0, 0, 1],\n",
       "       [0, 0, 1],\n",
       "       [0, 0, 1],\n",
       "       [0, 0, 1],\n",
       "       [0, 0, 1],\n",
       "       [0, 0, 1],\n",
       "       [0, 0, 1],\n",
       "       [0, 0, 1],\n",
       "       [0, 0, 1],\n",
       "       [0, 0, 1],\n",
       "       [0, 0, 1],\n",
       "       [0, 0, 1],\n",
       "       [0, 0, 1],\n",
       "       [0, 0, 1],\n",
       "       [0, 0, 1],\n",
       "       [0, 0, 1],\n",
       "       [0, 0, 1],\n",
       "       [0, 0, 1],\n",
       "       [0, 0, 1],\n",
       "       [0, 0, 1],\n",
       "       [0, 0, 1],\n",
       "       [0, 0, 1],\n",
       "       [0, 0, 1],\n",
       "       [0, 0, 1]])"
      ]
     },
     "execution_count": 90,
     "metadata": {},
     "output_type": "execute_result"
    }
   ],
   "source": [
    "#원핫인코딩 결과 확인\n",
    "o_y_train"
   ]
  },
  {
   "cell_type": "code",
   "execution_count": 92,
   "metadata": {},
   "outputs": [
    {
     "name": "stdout",
     "output_type": "stream",
     "text": [
      "WARNING:tensorflow:Please add `keras.layers.InputLayer` instead of `keras.Input` to Sequential model. `keras.Input` is intended to be used by Functional model.\n"
     ]
    },
    {
     "data": {
      "text/plain": [
       "'\\n1. input: 입력층을 설정하는 레이어로 훈련용 데이터 셋의 독립변수가 3개이므로 3 입력\\n2. Dense : 은닉/출력층을 설정하는 레이어로 (units, activation)형태로 입력\\n3. units : 은닉층은 4의 배수를 사용하는 경우가 많으며, \\n         출력층은 분류 문제에서는 종속변수의 라벨 개수만큼 설정하고 회귀 문제에서는 1로 지정\\n4. activation : 활성화 함수로 은닉층은 주로 relu, tanh을 사용하고 \\n                출력층은 이진 분류에서는 sigmoid, 다중 분류에서는 softmax, 회귀에서는 linear 또는 생략\\n\\n'"
      ]
     },
     "execution_count": 92,
     "metadata": {},
     "output_type": "execute_result"
    }
   ],
   "source": [
    "# 모델 구축\n",
    "model = Sequential()\n",
    "model.add(Input(3))\n",
    "model.add(Dense(16, activation='relu'))\n",
    "model.add(Dense(16, activation='relu'))\n",
    "model.add(Dense(3, activation='softmax'))\n",
    "\n",
    "'''\n",
    "1. input: 입력층을 설정하는 레이어로 훈련용 데이터 셋의 독립변수가 3개이므로 3 입력\n",
    "2. Dense : 은닉/출력층을 설정하는 레이어로 (units, activation)형태로 입력\n",
    "3. units : 은닉층은 4의 배수를 사용하는 경우가 많으며, \n",
    "         출력층은 분류 문제에서는 종속변수의 라벨 개수만큼 설정하고 회귀 문제에서는 1로 지정\n",
    "4. activation : 활성화 함수로 은닉층은 주로 relu, tanh을 사용하고 \n",
    "                출력층은 이진 분류에서는 sigmoid, 다중 분류에서는 softmax, 회귀에서는 linear 또는 생략\n",
    "\n",
    "'''"
   ]
  },
  {
   "cell_type": "code",
   "execution_count": 93,
   "metadata": {},
   "outputs": [
    {
     "name": "stdout",
     "output_type": "stream",
     "text": [
      "Model: \"sequential_1\"\n",
      "_________________________________________________________________\n",
      "Layer (type)                 Output Shape              Param #   \n",
      "=================================================================\n",
      "dense_3 (Dense)              (None, 16)                64        \n",
      "_________________________________________________________________\n",
      "dense_4 (Dense)              (None, 16)                272       \n",
      "_________________________________________________________________\n",
      "dense_5 (Dense)              (None, 3)                 51        \n",
      "=================================================================\n",
      "Total params: 387\n",
      "Trainable params: 387\n",
      "Non-trainable params: 0\n",
      "_________________________________________________________________\n"
     ]
    }
   ],
   "source": [
    "#모델 확인\n",
    "model.summary()"
   ]
  },
  {
   "cell_type": "code",
   "execution_count": 95,
   "metadata": {},
   "outputs": [
    {
     "data": {
      "text/plain": [
       "'\\n1. loss : 손실 합수는 모델의 최적화에 사용되는 목적 함수로 \\n          이진 분류일 경우 바이너리, 다중 분류일 경우 카테고리컬, 회귀일 경우 mse, mae를 사용\\n2. optimizer : 손실 함수 값을 최소로 하는 가중치 최적값을 찾아가는 도구, 일반적으로 Adam이 높은 성능\\n3. metrics : 모델의 성능을 평가하는 지표로 분류 문제에서는 accuracy, 회귀 문제에서는 mse, mae, rmse 주로 사용\\n'"
      ]
     },
     "execution_count": 95,
     "metadata": {},
     "output_type": "execute_result"
    }
   ],
   "source": [
    "#모델 학습 설정\n",
    "model.compile(loss='categorical_crossentropy', optimizer='adam', metrics='accuracy')\n",
    "\n",
    "'''\n",
    "1. loss : 손실 합수는 모델의 최적화에 사용되는 목적 함수로 \n",
    "          이진 분류일 경우 바이너리, 다중 분류일 경우 카테고리컬, 회귀일 경우 mse, mae를 사용\n",
    "2. optimizer : 손실 함수 값을 최소로 하는 가중치 최적값을 찾아가는 도구, 일반적으로 Adam이 높은 성능\n",
    "3. metrics : 모델의 성능을 평가하는 지표로 분류 문제에서는 accuracy, 회귀 문제에서는 mse, mae, rmse 주로 사용\n",
    "'''"
   ]
  },
  {
   "cell_type": "code",
   "execution_count": 97,
   "metadata": {},
   "outputs": [
    {
     "name": "stdout",
     "output_type": "stream",
     "text": [
      "Epoch 1/300\n",
      "12/12 [==============================] - 12s 42ms/step - loss: 1.0887 - accuracy: 0.4205 - val_loss: 1.0941 - val_accuracy: 0.2083\n",
      "Epoch 2/300\n",
      "12/12 [==============================] - 0s 2ms/step - loss: 1.0506 - accuracy: 0.6308 - val_loss: 1.1415 - val_accuracy: 0.0000e+00\n",
      "Epoch 3/300\n",
      "12/12 [==============================] - 0s 2ms/step - loss: 1.0260 - accuracy: 0.7382 - val_loss: 1.1855 - val_accuracy: 0.0000e+00\n",
      "Epoch 4/300\n",
      "12/12 [==============================] - 0s 2ms/step - loss: 1.0067 - accuracy: 0.7404 - val_loss: 1.2134 - val_accuracy: 0.0000e+00\n",
      "Epoch 5/300\n",
      "12/12 [==============================] - 0s 2ms/step - loss: 0.9726 - accuracy: 0.7489 - val_loss: 1.2513 - val_accuracy: 0.0000e+00\n",
      "Epoch 6/300\n",
      "12/12 [==============================] - 0s 2ms/step - loss: 0.9329 - accuracy: 0.8224 - val_loss: 1.2920 - val_accuracy: 0.0000e+00\n",
      "Epoch 7/300\n",
      "12/12 [==============================] - 0s 2ms/step - loss: 0.8913 - accuracy: 0.8442 - val_loss: 1.3382 - val_accuracy: 0.0000e+00\n",
      "Epoch 8/300\n",
      "12/12 [==============================] - 0s 2ms/step - loss: 0.8851 - accuracy: 0.7929 - val_loss: 1.3686 - val_accuracy: 0.0000e+00\n",
      "Epoch 9/300\n",
      "12/12 [==============================] - 0s 2ms/step - loss: 0.8528 - accuracy: 0.7917 - val_loss: 1.4140 - val_accuracy: 0.0000e+00\n",
      "Epoch 10/300\n",
      "12/12 [==============================] - 0s 2ms/step - loss: 0.7655 - accuracy: 0.8482 - val_loss: 1.4711 - val_accuracy: 0.0000e+00\n",
      "Epoch 11/300\n",
      "12/12 [==============================] - 0s 2ms/step - loss: 0.7525 - accuracy: 0.8316 - val_loss: 1.5132 - val_accuracy: 0.0000e+00\n",
      "Epoch 12/300\n",
      "12/12 [==============================] - 0s 2ms/step - loss: 0.7297 - accuracy: 0.8121 - val_loss: 1.5412 - val_accuracy: 0.0000e+00\n",
      "Epoch 13/300\n",
      "12/12 [==============================] - 0s 2ms/step - loss: 0.7144 - accuracy: 0.7860 - val_loss: 1.5589 - val_accuracy: 0.0000e+00\n",
      "Epoch 14/300\n",
      "12/12 [==============================] - 0s 2ms/step - loss: 0.6999 - accuracy: 0.7763 - val_loss: 1.5756 - val_accuracy: 0.0000e+00\n",
      "Epoch 15/300\n",
      "12/12 [==============================] - 0s 2ms/step - loss: 0.6103 - accuracy: 0.8262 - val_loss: 1.6043 - val_accuracy: 0.0000e+00\n",
      "Epoch 16/300\n",
      "12/12 [==============================] - 0s 2ms/step - loss: 0.5581 - accuracy: 0.8365 - val_loss: 1.6271 - val_accuracy: 0.0000e+00\n",
      "Epoch 17/300\n",
      "12/12 [==============================] - 0s 2ms/step - loss: 0.5912 - accuracy: 0.7857 - val_loss: 1.5898 - val_accuracy: 0.0000e+00\n",
      "Epoch 18/300\n",
      "12/12 [==============================] - 0s 2ms/step - loss: 0.4645 - accuracy: 0.8785 - val_loss: 1.6016 - val_accuracy: 0.0000e+00\n",
      "Epoch 19/300\n",
      "12/12 [==============================] - 0s 2ms/step - loss: 0.4945 - accuracy: 0.8532 - val_loss: 1.5504 - val_accuracy: 0.0000e+00\n",
      "Epoch 20/300\n",
      "12/12 [==============================] - 0s 2ms/step - loss: 0.5200 - accuracy: 0.8109 - val_loss: 1.5019 - val_accuracy: 0.0000e+00\n",
      "Epoch 21/300\n",
      "12/12 [==============================] - 0s 2ms/step - loss: 0.4755 - accuracy: 0.8163 - val_loss: 1.4660 - val_accuracy: 0.0000e+00\n",
      "Epoch 22/300\n",
      "12/12 [==============================] - 0s 2ms/step - loss: 0.4740 - accuracy: 0.8269 - val_loss: 1.4322 - val_accuracy: 0.0000e+00\n",
      "Epoch 23/300\n",
      "12/12 [==============================] - 0s 2ms/step - loss: 0.4744 - accuracy: 0.7904 - val_loss: 1.3988 - val_accuracy: 0.0000e+00\n",
      "Epoch 24/300\n",
      "12/12 [==============================] - 0s 2ms/step - loss: 0.4683 - accuracy: 0.8352 - val_loss: 1.3759 - val_accuracy: 0.0000e+00\n",
      "Epoch 25/300\n",
      "12/12 [==============================] - 0s 2ms/step - loss: 0.4670 - accuracy: 0.7833 - val_loss: 1.3491 - val_accuracy: 0.0208\n",
      "Epoch 26/300\n",
      "12/12 [==============================] - 0s 2ms/step - loss: 0.4689 - accuracy: 0.7844 - val_loss: 1.3034 - val_accuracy: 0.0833\n",
      "Epoch 27/300\n",
      "12/12 [==============================] - 0s 2ms/step - loss: 0.4452 - accuracy: 0.8062 - val_loss: 1.3027 - val_accuracy: 0.0833\n",
      "Epoch 28/300\n",
      "12/12 [==============================] - 0s 2ms/step - loss: 0.3982 - accuracy: 0.8113 - val_loss: 1.2650 - val_accuracy: 0.1667\n",
      "Epoch 29/300\n",
      "12/12 [==============================] - 0s 4ms/step - loss: 0.3802 - accuracy: 0.8523 - val_loss: 1.2885 - val_accuracy: 0.1458\n",
      "Epoch 30/300\n",
      "12/12 [==============================] - 0s 2ms/step - loss: 0.4408 - accuracy: 0.7987 - val_loss: 1.2127 - val_accuracy: 0.2292\n",
      "Epoch 31/300\n",
      "12/12 [==============================] - 0s 2ms/step - loss: 0.3910 - accuracy: 0.8383 - val_loss: 1.1907 - val_accuracy: 0.3125\n",
      "Epoch 32/300\n",
      "12/12 [==============================] - 0s 2ms/step - loss: 0.3365 - accuracy: 0.8525 - val_loss: 1.1618 - val_accuracy: 0.3125\n",
      "Epoch 33/300\n",
      "12/12 [==============================] - 0s 2ms/step - loss: 0.4060 - accuracy: 0.8005 - val_loss: 1.1113 - val_accuracy: 0.3333\n",
      "Epoch 34/300\n",
      "12/12 [==============================] - 0s 2ms/step - loss: 0.3967 - accuracy: 0.7958 - val_loss: 1.0903 - val_accuracy: 0.3750\n",
      "Epoch 35/300\n",
      "12/12 [==============================] - 0s 2ms/step - loss: 0.3322 - accuracy: 0.8705 - val_loss: 1.1258 - val_accuracy: 0.3542\n",
      "Epoch 36/300\n",
      "12/12 [==============================] - 0s 2ms/step - loss: 0.3453 - accuracy: 0.8623 - val_loss: 1.1451 - val_accuracy: 0.3333\n",
      "Epoch 37/300\n",
      "12/12 [==============================] - 0s 2ms/step - loss: 0.3863 - accuracy: 0.8148 - val_loss: 1.0575 - val_accuracy: 0.3750\n",
      "Epoch 38/300\n",
      "12/12 [==============================] - 0s 2ms/step - loss: 0.3621 - accuracy: 0.8624 - val_loss: 1.0480 - val_accuracy: 0.4167\n",
      "Epoch 39/300\n",
      "12/12 [==============================] - 0s 2ms/step - loss: 0.3342 - accuracy: 0.8676 - val_loss: 1.0096 - val_accuracy: 0.4583\n",
      "Epoch 40/300\n",
      "12/12 [==============================] - 0s 2ms/step - loss: 0.3077 - accuracy: 0.8749 - val_loss: 0.9908 - val_accuracy: 0.4792\n",
      "Epoch 41/300\n",
      "12/12 [==============================] - 0s 3ms/step - loss: 0.3663 - accuracy: 0.8717 - val_loss: 0.9540 - val_accuracy: 0.5000\n",
      "Epoch 42/300\n",
      "12/12 [==============================] - 0s 2ms/step - loss: 0.2814 - accuracy: 0.9109 - val_loss: 0.9474 - val_accuracy: 0.5000\n",
      "Epoch 43/300\n",
      "12/12 [==============================] - 0s 3ms/step - loss: 0.3574 - accuracy: 0.8842 - val_loss: 0.9420 - val_accuracy: 0.5417\n",
      "Epoch 44/300\n",
      "12/12 [==============================] - 0s 3ms/step - loss: 0.3473 - accuracy: 0.8603 - val_loss: 0.9344 - val_accuracy: 0.5417\n",
      "Epoch 45/300\n",
      "12/12 [==============================] - 0s 3ms/step - loss: 0.3093 - accuracy: 0.8866 - val_loss: 0.8794 - val_accuracy: 0.5833\n",
      "Epoch 46/300\n",
      "12/12 [==============================] - 0s 3ms/step - loss: 0.3084 - accuracy: 0.9021 - val_loss: 0.8725 - val_accuracy: 0.6042\n",
      "Epoch 47/300\n",
      "12/12 [==============================] - 0s 2ms/step - loss: 0.3135 - accuracy: 0.8746 - val_loss: 0.8383 - val_accuracy: 0.6042\n",
      "Epoch 48/300\n",
      "12/12 [==============================] - 0s 2ms/step - loss: 0.2649 - accuracy: 0.9148 - val_loss: 0.8428 - val_accuracy: 0.6042\n",
      "Epoch 49/300\n",
      "12/12 [==============================] - 0s 2ms/step - loss: 0.3388 - accuracy: 0.8620 - val_loss: 0.7977 - val_accuracy: 0.6042\n",
      "Epoch 50/300\n",
      "12/12 [==============================] - 0s 2ms/step - loss: 0.2444 - accuracy: 0.9083 - val_loss: 0.7678 - val_accuracy: 0.6250\n",
      "Epoch 51/300\n",
      "12/12 [==============================] - 0s 2ms/step - loss: 0.2645 - accuracy: 0.9263 - val_loss: 0.7557 - val_accuracy: 0.6042\n",
      "Epoch 52/300\n",
      "12/12 [==============================] - 0s 2ms/step - loss: 0.2344 - accuracy: 0.9126 - val_loss: 0.7151 - val_accuracy: 0.6250\n",
      "Epoch 53/300\n",
      "12/12 [==============================] - 0s 2ms/step - loss: 0.2612 - accuracy: 0.9004 - val_loss: 0.6579 - val_accuracy: 0.7083\n",
      "Epoch 54/300\n",
      "12/12 [==============================] - 0s 2ms/step - loss: 0.2542 - accuracy: 0.8845 - val_loss: 0.6781 - val_accuracy: 0.6667\n",
      "Epoch 55/300\n",
      "12/12 [==============================] - 0s 2ms/step - loss: 0.2354 - accuracy: 0.8993 - val_loss: 0.6620 - val_accuracy: 0.6667\n",
      "Epoch 56/300\n",
      "12/12 [==============================] - 0s 2ms/step - loss: 0.2629 - accuracy: 0.8781 - val_loss: 0.5993 - val_accuracy: 0.6667\n",
      "Epoch 57/300\n",
      "12/12 [==============================] - 0s 2ms/step - loss: 0.2300 - accuracy: 0.8926 - val_loss: 0.5697 - val_accuracy: 0.6667\n",
      "Epoch 58/300\n",
      "12/12 [==============================] - 0s 2ms/step - loss: 0.2415 - accuracy: 0.9044 - val_loss: 0.5648 - val_accuracy: 0.6667\n",
      "Epoch 59/300\n",
      "12/12 [==============================] - 0s 2ms/step - loss: 0.2254 - accuracy: 0.9059 - val_loss: 0.5376 - val_accuracy: 0.6667\n",
      "Epoch 60/300\n",
      "12/12 [==============================] - 0s 2ms/step - loss: 0.2011 - accuracy: 0.9427 - val_loss: 0.5021 - val_accuracy: 0.7083\n",
      "Epoch 61/300\n",
      "12/12 [==============================] - 0s 2ms/step - loss: 0.2145 - accuracy: 0.9093 - val_loss: 0.5174 - val_accuracy: 0.6875\n",
      "Epoch 62/300\n",
      "12/12 [==============================] - 0s 2ms/step - loss: 0.1845 - accuracy: 0.9442 - val_loss: 0.5098 - val_accuracy: 0.7083\n",
      "Epoch 63/300\n",
      "12/12 [==============================] - 0s 2ms/step - loss: 0.2382 - accuracy: 0.8891 - val_loss: 0.4701 - val_accuracy: 0.7708\n",
      "Epoch 64/300\n",
      "12/12 [==============================] - 0s 2ms/step - loss: 0.1998 - accuracy: 0.9293 - val_loss: 0.4720 - val_accuracy: 0.7500\n",
      "Epoch 65/300\n",
      "12/12 [==============================] - 0s 2ms/step - loss: 0.1806 - accuracy: 0.9268 - val_loss: 0.5015 - val_accuracy: 0.7083\n",
      "Epoch 66/300\n",
      "12/12 [==============================] - 0s 2ms/step - loss: 0.1950 - accuracy: 0.9427 - val_loss: 0.4475 - val_accuracy: 0.7708\n",
      "Epoch 67/300\n",
      "12/12 [==============================] - 0s 2ms/step - loss: 0.1933 - accuracy: 0.9277 - val_loss: 0.4743 - val_accuracy: 0.7292\n",
      "Epoch 68/300\n",
      "12/12 [==============================] - 0s 2ms/step - loss: 0.1965 - accuracy: 0.9115 - val_loss: 0.4663 - val_accuracy: 0.7292\n",
      "Epoch 69/300\n",
      "12/12 [==============================] - 0s 3ms/step - loss: 0.2150 - accuracy: 0.9166 - val_loss: 0.4172 - val_accuracy: 0.8125\n",
      "Epoch 70/300\n",
      "12/12 [==============================] - 0s 2ms/step - loss: 0.1687 - accuracy: 0.9445 - val_loss: 0.4250 - val_accuracy: 0.8125\n",
      "Epoch 71/300\n",
      "12/12 [==============================] - 0s 2ms/step - loss: 0.1966 - accuracy: 0.9256 - val_loss: 0.4380 - val_accuracy: 0.7917\n",
      "Epoch 72/300\n",
      "12/12 [==============================] - 0s 2ms/step - loss: 0.1729 - accuracy: 0.9407 - val_loss: 0.4603 - val_accuracy: 0.7500\n",
      "Epoch 73/300\n",
      "12/12 [==============================] - 0s 2ms/step - loss: 0.1592 - accuracy: 0.9592 - val_loss: 0.4265 - val_accuracy: 0.7917\n",
      "Epoch 74/300\n",
      "12/12 [==============================] - 0s 2ms/step - loss: 0.2000 - accuracy: 0.9293 - val_loss: 0.4021 - val_accuracy: 0.8333\n",
      "Epoch 75/300\n",
      "12/12 [==============================] - 0s 3ms/step - loss: 0.2217 - accuracy: 0.9263 - val_loss: 0.3841 - val_accuracy: 0.8333\n",
      "Epoch 76/300\n",
      "12/12 [==============================] - 0s 2ms/step - loss: 0.1954 - accuracy: 0.9046 - val_loss: 0.4445 - val_accuracy: 0.7500\n",
      "Epoch 77/300\n",
      "12/12 [==============================] - 0s 2ms/step - loss: 0.2237 - accuracy: 0.8960 - val_loss: 0.3687 - val_accuracy: 0.8333\n",
      "Epoch 78/300\n",
      "12/12 [==============================] - 0s 2ms/step - loss: 0.2062 - accuracy: 0.9190 - val_loss: 0.4031 - val_accuracy: 0.8333\n",
      "Epoch 79/300\n",
      "12/12 [==============================] - 0s 2ms/step - loss: 0.1835 - accuracy: 0.9172 - val_loss: 0.4117 - val_accuracy: 0.8333\n",
      "Epoch 80/300\n",
      "12/12 [==============================] - 0s 2ms/step - loss: 0.1525 - accuracy: 0.9552 - val_loss: 0.3879 - val_accuracy: 0.8333\n",
      "Epoch 81/300\n",
      "12/12 [==============================] - 0s 2ms/step - loss: 0.1969 - accuracy: 0.9135 - val_loss: 0.3954 - val_accuracy: 0.8333\n",
      "Epoch 82/300\n",
      "12/12 [==============================] - 0s 2ms/step - loss: 0.1830 - accuracy: 0.9278 - val_loss: 0.3803 - val_accuracy: 0.8333\n",
      "Epoch 83/300\n",
      "12/12 [==============================] - 0s 2ms/step - loss: 0.1818 - accuracy: 0.9130 - val_loss: 0.3728 - val_accuracy: 0.8333\n",
      "Epoch 84/300\n",
      "12/12 [==============================] - 0s 2ms/step - loss: 0.1605 - accuracy: 0.9274 - val_loss: 0.4001 - val_accuracy: 0.7917\n",
      "Epoch 85/300\n",
      "12/12 [==============================] - 0s 5ms/step - loss: 0.1491 - accuracy: 0.9499 - val_loss: 0.3717 - val_accuracy: 0.8333\n",
      "Epoch 86/300\n",
      "12/12 [==============================] - 0s 2ms/step - loss: 0.2030 - accuracy: 0.8992 - val_loss: 0.3642 - val_accuracy: 0.8125\n",
      "Epoch 87/300\n",
      "12/12 [==============================] - 0s 2ms/step - loss: 0.2079 - accuracy: 0.9120 - val_loss: 0.3730 - val_accuracy: 0.8333\n",
      "Epoch 88/300\n",
      "12/12 [==============================] - 0s 2ms/step - loss: 0.1748 - accuracy: 0.9377 - val_loss: 0.3370 - val_accuracy: 0.8333\n",
      "Epoch 89/300\n",
      "12/12 [==============================] - 0s 2ms/step - loss: 0.1427 - accuracy: 0.9505 - val_loss: 0.3465 - val_accuracy: 0.8542\n",
      "Epoch 90/300\n",
      "12/12 [==============================] - 0s 2ms/step - loss: 0.1758 - accuracy: 0.9395 - val_loss: 0.3606 - val_accuracy: 0.8125\n",
      "Epoch 91/300\n",
      "12/12 [==============================] - 0s 2ms/step - loss: 0.1680 - accuracy: 0.9165 - val_loss: 0.3569 - val_accuracy: 0.8125\n",
      "Epoch 92/300\n",
      "12/12 [==============================] - 0s 2ms/step - loss: 0.1635 - accuracy: 0.9301 - val_loss: 0.3544 - val_accuracy: 0.8125\n",
      "Epoch 93/300\n",
      "12/12 [==============================] - 0s 2ms/step - loss: 0.1506 - accuracy: 0.9337 - val_loss: 0.3733 - val_accuracy: 0.7917\n",
      "Epoch 94/300\n",
      "12/12 [==============================] - 0s 2ms/step - loss: 0.1706 - accuracy: 0.9337 - val_loss: 0.3624 - val_accuracy: 0.8125\n",
      "Epoch 95/300\n",
      "12/12 [==============================] - 0s 2ms/step - loss: 0.1495 - accuracy: 0.9492 - val_loss: 0.3313 - val_accuracy: 0.8333\n",
      "Epoch 96/300\n",
      "12/12 [==============================] - 0s 2ms/step - loss: 0.1410 - accuracy: 0.9451 - val_loss: 0.3572 - val_accuracy: 0.8125\n",
      "Epoch 97/300\n",
      "12/12 [==============================] - 0s 2ms/step - loss: 0.1284 - accuracy: 0.9549 - val_loss: 0.3622 - val_accuracy: 0.8125\n",
      "Epoch 98/300\n",
      "12/12 [==============================] - 0s 2ms/step - loss: 0.1748 - accuracy: 0.9440 - val_loss: 0.3095 - val_accuracy: 0.8750\n",
      "Epoch 99/300\n",
      "12/12 [==============================] - 0s 2ms/step - loss: 0.1308 - accuracy: 0.9444 - val_loss: 0.3566 - val_accuracy: 0.8125\n",
      "Epoch 100/300\n",
      "12/12 [==============================] - 0s 2ms/step - loss: 0.1756 - accuracy: 0.9201 - val_loss: 0.3579 - val_accuracy: 0.8125\n",
      "Epoch 101/300\n",
      "12/12 [==============================] - 0s 3ms/step - loss: 0.1689 - accuracy: 0.9280 - val_loss: 0.3234 - val_accuracy: 0.8542\n",
      "Epoch 102/300\n",
      "12/12 [==============================] - 0s 2ms/step - loss: 0.1329 - accuracy: 0.9463 - val_loss: 0.3208 - val_accuracy: 0.8542\n",
      "Epoch 103/300\n",
      "12/12 [==============================] - 0s 2ms/step - loss: 0.1613 - accuracy: 0.9296 - val_loss: 0.3165 - val_accuracy: 0.8542\n",
      "Epoch 104/300\n",
      "12/12 [==============================] - 0s 2ms/step - loss: 0.1522 - accuracy: 0.9490 - val_loss: 0.3340 - val_accuracy: 0.8542\n",
      "Epoch 105/300\n",
      "12/12 [==============================] - 0s 4ms/step - loss: 0.1451 - accuracy: 0.9405 - val_loss: 0.3201 - val_accuracy: 0.8542\n",
      "Epoch 106/300\n",
      "12/12 [==============================] - 0s 2ms/step - loss: 0.1609 - accuracy: 0.9489 - val_loss: 0.3516 - val_accuracy: 0.8333\n",
      "Epoch 107/300\n",
      "12/12 [==============================] - 0s 2ms/step - loss: 0.1802 - accuracy: 0.9386 - val_loss: 0.3386 - val_accuracy: 0.8542\n",
      "Epoch 108/300\n",
      "12/12 [==============================] - 0s 2ms/step - loss: 0.1450 - accuracy: 0.9467 - val_loss: 0.3288 - val_accuracy: 0.8542\n",
      "Epoch 109/300\n",
      "12/12 [==============================] - 0s 2ms/step - loss: 0.1401 - accuracy: 0.9509 - val_loss: 0.3142 - val_accuracy: 0.8542\n",
      "Epoch 110/300\n",
      "12/12 [==============================] - 0s 2ms/step - loss: 0.1723 - accuracy: 0.9341 - val_loss: 0.3227 - val_accuracy: 0.8542\n",
      "Epoch 111/300\n",
      "12/12 [==============================] - 0s 2ms/step - loss: 0.1682 - accuracy: 0.9380 - val_loss: 0.3221 - val_accuracy: 0.8542\n",
      "Epoch 112/300\n",
      "12/12 [==============================] - 0s 2ms/step - loss: 0.1448 - accuracy: 0.9386 - val_loss: 0.3100 - val_accuracy: 0.8750\n",
      "Epoch 113/300\n",
      "12/12 [==============================] - 0s 2ms/step - loss: 0.1384 - accuracy: 0.9514 - val_loss: 0.3044 - val_accuracy: 0.8750\n",
      "Epoch 114/300\n",
      "12/12 [==============================] - 0s 2ms/step - loss: 0.1566 - accuracy: 0.9397 - val_loss: 0.3423 - val_accuracy: 0.8125\n",
      "Epoch 115/300\n",
      "12/12 [==============================] - 0s 2ms/step - loss: 0.1833 - accuracy: 0.9279 - val_loss: 0.3354 - val_accuracy: 0.8542\n"
     ]
    },
    {
     "name": "stdout",
     "output_type": "stream",
     "text": [
      "Epoch 116/300\n",
      "12/12 [==============================] - 0s 2ms/step - loss: 0.1083 - accuracy: 0.9697 - val_loss: 0.2980 - val_accuracy: 0.8750\n",
      "Epoch 117/300\n",
      "12/12 [==============================] - 0s 2ms/step - loss: 0.1623 - accuracy: 0.9304 - val_loss: 0.3044 - val_accuracy: 0.8750\n",
      "Epoch 118/300\n",
      "12/12 [==============================] - 0s 2ms/step - loss: 0.1324 - accuracy: 0.9461 - val_loss: 0.3333 - val_accuracy: 0.8542\n",
      "Epoch 119/300\n",
      "12/12 [==============================] - 0s 2ms/step - loss: 0.1576 - accuracy: 0.9345 - val_loss: 0.3274 - val_accuracy: 0.8542\n",
      "Epoch 120/300\n",
      "12/12 [==============================] - 0s 2ms/step - loss: 0.1368 - accuracy: 0.9539 - val_loss: 0.2811 - val_accuracy: 0.8958\n",
      "Epoch 121/300\n",
      "12/12 [==============================] - 0s 2ms/step - loss: 0.1466 - accuracy: 0.9177 - val_loss: 0.2887 - val_accuracy: 0.8958\n",
      "Epoch 122/300\n",
      "12/12 [==============================] - 0s 2ms/step - loss: 0.1408 - accuracy: 0.9540 - val_loss: 0.3178 - val_accuracy: 0.8750\n",
      "Epoch 123/300\n",
      "12/12 [==============================] - 0s 2ms/step - loss: 0.1297 - accuracy: 0.9466 - val_loss: 0.3377 - val_accuracy: 0.8333\n",
      "Epoch 124/300\n",
      "12/12 [==============================] - 0s 2ms/step - loss: 0.1267 - accuracy: 0.9509 - val_loss: 0.3064 - val_accuracy: 0.8750\n",
      "Epoch 125/300\n",
      "12/12 [==============================] - 0s 2ms/step - loss: 0.1182 - accuracy: 0.9585 - val_loss: 0.2685 - val_accuracy: 0.8958\n",
      "Epoch 126/300\n",
      "12/12 [==============================] - 0s 2ms/step - loss: 0.1471 - accuracy: 0.9309 - val_loss: 0.3195 - val_accuracy: 0.8750\n",
      "Epoch 127/300\n",
      "12/12 [==============================] - 0s 2ms/step - loss: 0.1668 - accuracy: 0.9376 - val_loss: 0.3614 - val_accuracy: 0.8125\n",
      "Epoch 128/300\n",
      "12/12 [==============================] - 0s 2ms/step - loss: 0.1273 - accuracy: 0.9611 - val_loss: 0.2955 - val_accuracy: 0.8958\n",
      "Epoch 129/300\n",
      "12/12 [==============================] - 0s 2ms/step - loss: 0.1323 - accuracy: 0.9432 - val_loss: 0.2743 - val_accuracy: 0.8958\n",
      "Epoch 130/300\n",
      "12/12 [==============================] - 0s 2ms/step - loss: 0.1292 - accuracy: 0.9419 - val_loss: 0.3181 - val_accuracy: 0.8750\n",
      "Epoch 131/300\n",
      "12/12 [==============================] - 0s 2ms/step - loss: 0.1536 - accuracy: 0.9417 - val_loss: 0.3052 - val_accuracy: 0.8958\n",
      "Epoch 132/300\n",
      "12/12 [==============================] - 0s 2ms/step - loss: 0.1224 - accuracy: 0.9600 - val_loss: 0.3218 - val_accuracy: 0.8750\n",
      "Epoch 133/300\n",
      "12/12 [==============================] - 0s 2ms/step - loss: 0.1782 - accuracy: 0.9360 - val_loss: 0.3145 - val_accuracy: 0.8958\n",
      "Epoch 134/300\n",
      "12/12 [==============================] - 0s 2ms/step - loss: 0.1603 - accuracy: 0.9398 - val_loss: 0.2904 - val_accuracy: 0.8958\n",
      "Epoch 135/300\n",
      "12/12 [==============================] - 0s 2ms/step - loss: 0.1400 - accuracy: 0.9538 - val_loss: 0.2920 - val_accuracy: 0.8958\n",
      "Epoch 136/300\n",
      "12/12 [==============================] - 0s 2ms/step - loss: 0.1514 - accuracy: 0.9474 - val_loss: 0.3210 - val_accuracy: 0.8750\n",
      "Epoch 137/300\n",
      "12/12 [==============================] - 0s 2ms/step - loss: 0.1562 - accuracy: 0.9543 - val_loss: 0.2784 - val_accuracy: 0.8958\n",
      "Epoch 138/300\n",
      "12/12 [==============================] - 0s 2ms/step - loss: 0.1958 - accuracy: 0.8946 - val_loss: 0.3030 - val_accuracy: 0.8958\n",
      "Epoch 139/300\n",
      "12/12 [==============================] - 0s 2ms/step - loss: 0.1368 - accuracy: 0.9333 - val_loss: 0.3011 - val_accuracy: 0.8958\n",
      "Epoch 140/300\n",
      "12/12 [==============================] - 0s 2ms/step - loss: 0.1184 - accuracy: 0.9589 - val_loss: 0.2778 - val_accuracy: 0.8958\n",
      "Epoch 141/300\n",
      "12/12 [==============================] - 0s 2ms/step - loss: 0.1635 - accuracy: 0.9312 - val_loss: 0.3152 - val_accuracy: 0.8750\n",
      "Epoch 142/300\n",
      "12/12 [==============================] - 0s 2ms/step - loss: 0.1337 - accuracy: 0.9435 - val_loss: 0.3006 - val_accuracy: 0.8958\n",
      "Epoch 143/300\n",
      "12/12 [==============================] - 0s 2ms/step - loss: 0.1439 - accuracy: 0.9500 - val_loss: 0.2902 - val_accuracy: 0.8958\n",
      "Epoch 144/300\n",
      "12/12 [==============================] - 0s 2ms/step - loss: 0.1185 - accuracy: 0.9643 - val_loss: 0.2971 - val_accuracy: 0.8958\n",
      "Epoch 145/300\n",
      "12/12 [==============================] - 0s 2ms/step - loss: 0.1432 - accuracy: 0.9447 - val_loss: 0.3099 - val_accuracy: 0.8958\n",
      "Epoch 146/300\n",
      "12/12 [==============================] - 0s 2ms/step - loss: 0.1183 - accuracy: 0.9573 - val_loss: 0.3357 - val_accuracy: 0.8750\n",
      "Epoch 147/300\n",
      "12/12 [==============================] - 0s 2ms/step - loss: 0.1500 - accuracy: 0.9460 - val_loss: 0.2573 - val_accuracy: 0.9167\n",
      "Epoch 148/300\n",
      "12/12 [==============================] - 0s 2ms/step - loss: 0.1085 - accuracy: 0.9632 - val_loss: 0.3163 - val_accuracy: 0.8750\n",
      "Epoch 149/300\n",
      "12/12 [==============================] - 0s 2ms/step - loss: 0.1265 - accuracy: 0.9548 - val_loss: 0.2843 - val_accuracy: 0.8958\n",
      "Epoch 150/300\n",
      "12/12 [==============================] - 0s 2ms/step - loss: 0.1654 - accuracy: 0.9308 - val_loss: 0.2953 - val_accuracy: 0.8958\n",
      "Epoch 151/300\n",
      "12/12 [==============================] - 0s 2ms/step - loss: 0.1408 - accuracy: 0.9443 - val_loss: 0.2632 - val_accuracy: 0.9167\n",
      "Epoch 152/300\n",
      "12/12 [==============================] - 0s 2ms/step - loss: 0.1455 - accuracy: 0.9542 - val_loss: 0.2998 - val_accuracy: 0.8958\n",
      "Epoch 153/300\n",
      "12/12 [==============================] - 0s 2ms/step - loss: 0.1559 - accuracy: 0.9284 - val_loss: 0.3002 - val_accuracy: 0.8958\n",
      "Epoch 154/300\n",
      "12/12 [==============================] - 0s 2ms/step - loss: 0.1330 - accuracy: 0.9559 - val_loss: 0.2865 - val_accuracy: 0.8958\n",
      "Epoch 155/300\n",
      "12/12 [==============================] - 0s 2ms/step - loss: 0.1502 - accuracy: 0.9509 - val_loss: 0.2763 - val_accuracy: 0.8958\n",
      "Epoch 156/300\n",
      "12/12 [==============================] - 0s 2ms/step - loss: 0.1217 - accuracy: 0.9632 - val_loss: 0.2877 - val_accuracy: 0.8958\n",
      "Epoch 157/300\n",
      "12/12 [==============================] - 0s 2ms/step - loss: 0.1424 - accuracy: 0.9555 - val_loss: 0.3109 - val_accuracy: 0.8958\n",
      "Epoch 158/300\n",
      "12/12 [==============================] - 0s 2ms/step - loss: 0.1100 - accuracy: 0.9620 - val_loss: 0.3061 - val_accuracy: 0.8958\n",
      "Epoch 159/300\n",
      "12/12 [==============================] - 0s 2ms/step - loss: 0.1316 - accuracy: 0.9379 - val_loss: 0.2799 - val_accuracy: 0.8958\n",
      "Epoch 160/300\n",
      "12/12 [==============================] - 0s 2ms/step - loss: 0.1341 - accuracy: 0.9478 - val_loss: 0.2993 - val_accuracy: 0.8958\n",
      "Epoch 161/300\n",
      "12/12 [==============================] - 0s 2ms/step - loss: 0.1476 - accuracy: 0.9459 - val_loss: 0.2829 - val_accuracy: 0.8958\n",
      "Epoch 162/300\n",
      "12/12 [==============================] - 0s 2ms/step - loss: 0.1394 - accuracy: 0.9488 - val_loss: 0.2923 - val_accuracy: 0.8958\n",
      "Epoch 163/300\n",
      "12/12 [==============================] - 0s 2ms/step - loss: 0.1182 - accuracy: 0.9741 - val_loss: 0.2724 - val_accuracy: 0.9167\n",
      "Epoch 164/300\n",
      "12/12 [==============================] - 0s 2ms/step - loss: 0.1539 - accuracy: 0.9475 - val_loss: 0.3032 - val_accuracy: 0.8958\n",
      "Epoch 165/300\n",
      "12/12 [==============================] - 0s 2ms/step - loss: 0.1173 - accuracy: 0.9537 - val_loss: 0.2831 - val_accuracy: 0.8958\n",
      "Epoch 166/300\n",
      "12/12 [==============================] - 0s 2ms/step - loss: 0.1377 - accuracy: 0.9451 - val_loss: 0.2929 - val_accuracy: 0.8958\n",
      "Epoch 167/300\n",
      "12/12 [==============================] - 0s 2ms/step - loss: 0.1556 - accuracy: 0.9218 - val_loss: 0.2769 - val_accuracy: 0.8958\n",
      "Epoch 168/300\n",
      "12/12 [==============================] - 0s 2ms/step - loss: 0.1186 - accuracy: 0.9444 - val_loss: 0.2877 - val_accuracy: 0.8958\n",
      "Epoch 169/300\n",
      "12/12 [==============================] - 0s 2ms/step - loss: 0.1508 - accuracy: 0.9380 - val_loss: 0.2783 - val_accuracy: 0.8958\n",
      "Epoch 170/300\n",
      "12/12 [==============================] - 0s 2ms/step - loss: 0.1198 - accuracy: 0.9564 - val_loss: 0.2905 - val_accuracy: 0.8958\n",
      "Epoch 171/300\n",
      "12/12 [==============================] - 0s 2ms/step - loss: 0.1409 - accuracy: 0.9446 - val_loss: 0.2801 - val_accuracy: 0.8958\n",
      "Epoch 172/300\n",
      "12/12 [==============================] - 0s 2ms/step - loss: 0.1335 - accuracy: 0.9504 - val_loss: 0.2967 - val_accuracy: 0.8958\n",
      "Epoch 173/300\n",
      "12/12 [==============================] - 0s 2ms/step - loss: 0.1273 - accuracy: 0.9414 - val_loss: 0.2705 - val_accuracy: 0.8958\n",
      "Epoch 174/300\n",
      "12/12 [==============================] - 0s 2ms/step - loss: 0.1397 - accuracy: 0.9545 - val_loss: 0.3080 - val_accuracy: 0.8958\n",
      "Epoch 175/300\n",
      "12/12 [==============================] - 0s 2ms/step - loss: 0.1448 - accuracy: 0.9389 - val_loss: 0.2623 - val_accuracy: 0.9167\n",
      "Epoch 176/300\n",
      "12/12 [==============================] - 0s 2ms/step - loss: 0.1195 - accuracy: 0.9607 - val_loss: 0.2943 - val_accuracy: 0.8958\n",
      "Epoch 177/300\n",
      "12/12 [==============================] - 0s 2ms/step - loss: 0.1093 - accuracy: 0.9633 - val_loss: 0.2712 - val_accuracy: 0.9167\n",
      "Epoch 178/300\n",
      "12/12 [==============================] - 0s 2ms/step - loss: 0.1244 - accuracy: 0.9534 - val_loss: 0.3060 - val_accuracy: 0.8958\n",
      "Epoch 179/300\n",
      "12/12 [==============================] - 0s 2ms/step - loss: 0.1149 - accuracy: 0.9595 - val_loss: 0.2694 - val_accuracy: 0.9167\n",
      "Epoch 180/300\n",
      "12/12 [==============================] - 0s 2ms/step - loss: 0.1508 - accuracy: 0.9471 - val_loss: 0.2819 - val_accuracy: 0.9167\n",
      "Epoch 181/300\n",
      "12/12 [==============================] - 0s 2ms/step - loss: 0.1324 - accuracy: 0.9508 - val_loss: 0.3071 - val_accuracy: 0.8958\n",
      "Epoch 182/300\n",
      "12/12 [==============================] - 0s 2ms/step - loss: 0.1445 - accuracy: 0.9327 - val_loss: 0.2861 - val_accuracy: 0.8958\n",
      "Epoch 183/300\n",
      "12/12 [==============================] - 0s 2ms/step - loss: 0.1233 - accuracy: 0.9628 - val_loss: 0.3004 - val_accuracy: 0.8958\n",
      "Epoch 184/300\n",
      "12/12 [==============================] - 0s 2ms/step - loss: 0.1502 - accuracy: 0.9404 - val_loss: 0.3001 - val_accuracy: 0.8958\n",
      "Epoch 185/300\n",
      "12/12 [==============================] - 0s 2ms/step - loss: 0.1036 - accuracy: 0.9509 - val_loss: 0.2624 - val_accuracy: 0.9167\n",
      "Epoch 186/300\n",
      "12/12 [==============================] - 0s 2ms/step - loss: 0.1387 - accuracy: 0.9442 - val_loss: 0.2624 - val_accuracy: 0.9167\n",
      "Epoch 187/300\n",
      "12/12 [==============================] - 0s 2ms/step - loss: 0.1410 - accuracy: 0.9555 - val_loss: 0.2947 - val_accuracy: 0.8958\n",
      "Epoch 188/300\n",
      "12/12 [==============================] - 0s 2ms/step - loss: 0.1521 - accuracy: 0.9343 - val_loss: 0.3224 - val_accuracy: 0.8750\n",
      "Epoch 189/300\n",
      "12/12 [==============================] - 0s 2ms/step - loss: 0.1308 - accuracy: 0.9415 - val_loss: 0.2932 - val_accuracy: 0.8958\n",
      "Epoch 190/300\n",
      "12/12 [==============================] - 0s 2ms/step - loss: 0.1456 - accuracy: 0.9358 - val_loss: 0.2775 - val_accuracy: 0.9167\n",
      "Epoch 191/300\n",
      "12/12 [==============================] - 0s 2ms/step - loss: 0.1086 - accuracy: 0.9645 - val_loss: 0.2829 - val_accuracy: 0.9167\n",
      "Epoch 192/300\n",
      "12/12 [==============================] - 0s 2ms/step - loss: 0.1311 - accuracy: 0.9546 - val_loss: 0.2711 - val_accuracy: 0.9167\n",
      "Epoch 193/300\n",
      "12/12 [==============================] - 0s 2ms/step - loss: 0.1445 - accuracy: 0.9449 - val_loss: 0.2968 - val_accuracy: 0.8958\n",
      "Epoch 194/300\n",
      "12/12 [==============================] - 0s 2ms/step - loss: 0.1191 - accuracy: 0.9445 - val_loss: 0.2655 - val_accuracy: 0.9167\n",
      "Epoch 195/300\n",
      "12/12 [==============================] - 0s 2ms/step - loss: 0.1295 - accuracy: 0.9609 - val_loss: 0.2820 - val_accuracy: 0.9167\n",
      "Epoch 196/300\n",
      "12/12 [==============================] - 0s 2ms/step - loss: 0.1576 - accuracy: 0.9333 - val_loss: 0.2847 - val_accuracy: 0.9167\n",
      "Epoch 197/300\n",
      "12/12 [==============================] - 0s 2ms/step - loss: 0.1237 - accuracy: 0.9591 - val_loss: 0.2641 - val_accuracy: 0.9167\n",
      "Epoch 198/300\n",
      "12/12 [==============================] - 0s 2ms/step - loss: 0.0961 - accuracy: 0.9719 - val_loss: 0.3004 - val_accuracy: 0.8958\n",
      "Epoch 199/300\n",
      "12/12 [==============================] - 0s 2ms/step - loss: 0.1380 - accuracy: 0.9423 - val_loss: 0.3026 - val_accuracy: 0.8958\n",
      "Epoch 200/300\n",
      "12/12 [==============================] - 0s 2ms/step - loss: 0.1352 - accuracy: 0.9478 - val_loss: 0.2520 - val_accuracy: 0.9167\n",
      "Epoch 201/300\n",
      "12/12 [==============================] - 0s 2ms/step - loss: 0.1565 - accuracy: 0.9318 - val_loss: 0.2810 - val_accuracy: 0.9167\n",
      "Epoch 202/300\n",
      "12/12 [==============================] - 0s 2ms/step - loss: 0.1329 - accuracy: 0.9563 - val_loss: 0.2838 - val_accuracy: 0.9167\n",
      "Epoch 203/300\n",
      "12/12 [==============================] - 0s 2ms/step - loss: 0.1648 - accuracy: 0.9419 - val_loss: 0.2794 - val_accuracy: 0.9167\n",
      "Epoch 204/300\n",
      "12/12 [==============================] - 0s 2ms/step - loss: 0.1444 - accuracy: 0.9467 - val_loss: 0.3133 - val_accuracy: 0.8750\n",
      "Epoch 205/300\n",
      "12/12 [==============================] - 0s 2ms/step - loss: 0.1378 - accuracy: 0.9449 - val_loss: 0.2884 - val_accuracy: 0.8958\n",
      "Epoch 206/300\n",
      "12/12 [==============================] - 0s 2ms/step - loss: 0.1714 - accuracy: 0.9510 - val_loss: 0.2777 - val_accuracy: 0.9167\n",
      "Epoch 207/300\n",
      "12/12 [==============================] - 0s 2ms/step - loss: 0.1214 - accuracy: 0.9591 - val_loss: 0.2707 - val_accuracy: 0.9167\n",
      "Epoch 208/300\n",
      "12/12 [==============================] - 0s 3ms/step - loss: 0.1160 - accuracy: 0.9384 - val_loss: 0.2931 - val_accuracy: 0.8958\n",
      "Epoch 209/300\n",
      "12/12 [==============================] - 0s 3ms/step - loss: 0.1626 - accuracy: 0.9395 - val_loss: 0.2893 - val_accuracy: 0.9167\n",
      "Epoch 210/300\n",
      "12/12 [==============================] - 0s 2ms/step - loss: 0.1375 - accuracy: 0.9405 - val_loss: 0.2952 - val_accuracy: 0.8958\n",
      "Epoch 211/300\n",
      "12/12 [==============================] - 0s 3ms/step - loss: 0.1133 - accuracy: 0.9508 - val_loss: 0.2661 - val_accuracy: 0.9167\n",
      "Epoch 212/300\n",
      "12/12 [==============================] - 0s 3ms/step - loss: 0.1163 - accuracy: 0.9584 - val_loss: 0.2648 - val_accuracy: 0.9167\n",
      "Epoch 213/300\n",
      "12/12 [==============================] - 0s 2ms/step - loss: 0.1437 - accuracy: 0.9401 - val_loss: 0.2918 - val_accuracy: 0.8958\n",
      "Epoch 214/300\n",
      "12/12 [==============================] - 0s 2ms/step - loss: 0.1135 - accuracy: 0.9659 - val_loss: 0.2708 - val_accuracy: 0.9167\n",
      "Epoch 215/300\n",
      "12/12 [==============================] - 0s 2ms/step - loss: 0.1153 - accuracy: 0.9745 - val_loss: 0.2889 - val_accuracy: 0.9167\n",
      "Epoch 216/300\n",
      "12/12 [==============================] - 0s 2ms/step - loss: 0.1332 - accuracy: 0.9484 - val_loss: 0.2964 - val_accuracy: 0.8958\n",
      "Epoch 217/300\n",
      "12/12 [==============================] - 0s 3ms/step - loss: 0.1161 - accuracy: 0.9617 - val_loss: 0.2777 - val_accuracy: 0.9167\n",
      "Epoch 218/300\n",
      "12/12 [==============================] - 0s 3ms/step - loss: 0.1615 - accuracy: 0.9360 - val_loss: 0.2565 - val_accuracy: 0.9167\n",
      "Epoch 219/300\n",
      "12/12 [==============================] - 0s 2ms/step - loss: 0.1209 - accuracy: 0.9700 - val_loss: 0.3165 - val_accuracy: 0.8750\n",
      "Epoch 220/300\n",
      "12/12 [==============================] - 0s 3ms/step - loss: 0.1474 - accuracy: 0.9276 - val_loss: 0.2855 - val_accuracy: 0.9167\n",
      "Epoch 221/300\n",
      "12/12 [==============================] - 0s 2ms/step - loss: 0.1802 - accuracy: 0.9181 - val_loss: 0.2776 - val_accuracy: 0.9167\n",
      "Epoch 222/300\n",
      "12/12 [==============================] - 0s 2ms/step - loss: 0.1243 - accuracy: 0.9588 - val_loss: 0.2622 - val_accuracy: 0.9167\n",
      "Epoch 223/300\n",
      "12/12 [==============================] - 0s 2ms/step - loss: 0.1019 - accuracy: 0.9588 - val_loss: 0.2769 - val_accuracy: 0.9167\n",
      "Epoch 224/300\n",
      "12/12 [==============================] - 0s 2ms/step - loss: 0.1055 - accuracy: 0.9501 - val_loss: 0.3169 - val_accuracy: 0.8750\n",
      "Epoch 225/300\n",
      "12/12 [==============================] - 0s 2ms/step - loss: 0.1299 - accuracy: 0.9513 - val_loss: 0.2702 - val_accuracy: 0.9167\n",
      "Epoch 226/300\n",
      "12/12 [==============================] - 0s 2ms/step - loss: 0.1287 - accuracy: 0.9440 - val_loss: 0.2803 - val_accuracy: 0.9167\n",
      "Epoch 227/300\n",
      "12/12 [==============================] - 0s 2ms/step - loss: 0.1422 - accuracy: 0.9473 - val_loss: 0.2634 - val_accuracy: 0.9167\n",
      "Epoch 228/300\n",
      "12/12 [==============================] - 0s 2ms/step - loss: 0.1287 - accuracy: 0.9553 - val_loss: 0.2992 - val_accuracy: 0.8958\n",
      "Epoch 229/300\n",
      "12/12 [==============================] - 0s 2ms/step - loss: 0.1192 - accuracy: 0.9594 - val_loss: 0.2604 - val_accuracy: 0.9167\n",
      "Epoch 230/300\n"
     ]
    },
    {
     "name": "stdout",
     "output_type": "stream",
     "text": [
      "12/12 [==============================] - 0s 2ms/step - loss: 0.1794 - accuracy: 0.9234 - val_loss: 0.2799 - val_accuracy: 0.9167\n",
      "Epoch 231/300\n",
      "12/12 [==============================] - 0s 2ms/step - loss: 0.1286 - accuracy: 0.9584 - val_loss: 0.2947 - val_accuracy: 0.8958\n",
      "Epoch 232/300\n",
      "12/12 [==============================] - 0s 2ms/step - loss: 0.1175 - accuracy: 0.9598 - val_loss: 0.2741 - val_accuracy: 0.9167\n",
      "Epoch 233/300\n",
      "12/12 [==============================] - 0s 2ms/step - loss: 0.1161 - accuracy: 0.9539 - val_loss: 0.2936 - val_accuracy: 0.9167\n",
      "Epoch 234/300\n",
      "12/12 [==============================] - 0s 2ms/step - loss: 0.1444 - accuracy: 0.9560 - val_loss: 0.2840 - val_accuracy: 0.9167\n",
      "Epoch 235/300\n",
      "12/12 [==============================] - 0s 2ms/step - loss: 0.1510 - accuracy: 0.9462 - val_loss: 0.2959 - val_accuracy: 0.9167\n",
      "Epoch 236/300\n",
      "12/12 [==============================] - 0s 2ms/step - loss: 0.1343 - accuracy: 0.9557 - val_loss: 0.2648 - val_accuracy: 0.9167\n",
      "Epoch 237/300\n",
      "12/12 [==============================] - 0s 2ms/step - loss: 0.1153 - accuracy: 0.9688 - val_loss: 0.2610 - val_accuracy: 0.9167\n",
      "Epoch 238/300\n",
      "12/12 [==============================] - 0s 2ms/step - loss: 0.1396 - accuracy: 0.9573 - val_loss: 0.2928 - val_accuracy: 0.9167\n",
      "Epoch 239/300\n",
      "12/12 [==============================] - 0s 2ms/step - loss: 0.1503 - accuracy: 0.9459 - val_loss: 0.2588 - val_accuracy: 0.9167\n",
      "Epoch 240/300\n",
      "12/12 [==============================] - 0s 4ms/step - loss: 0.0925 - accuracy: 0.9627 - val_loss: 0.2798 - val_accuracy: 0.9167\n",
      "Epoch 241/300\n",
      "12/12 [==============================] - 0s 2ms/step - loss: 0.0858 - accuracy: 0.9691 - val_loss: 0.3065 - val_accuracy: 0.8958\n",
      "Epoch 242/300\n",
      "12/12 [==============================] - 0s 2ms/step - loss: 0.1313 - accuracy: 0.9509 - val_loss: 0.2779 - val_accuracy: 0.9167\n",
      "Epoch 243/300\n",
      "12/12 [==============================] - 0s 2ms/step - loss: 0.1134 - accuracy: 0.9400 - val_loss: 0.2881 - val_accuracy: 0.9167\n",
      "Epoch 244/300\n",
      "12/12 [==============================] - 0s 2ms/step - loss: 0.1246 - accuracy: 0.9417 - val_loss: 0.2961 - val_accuracy: 0.9167\n",
      "Epoch 245/300\n",
      "12/12 [==============================] - 0s 2ms/step - loss: 0.1322 - accuracy: 0.9386 - val_loss: 0.2663 - val_accuracy: 0.9167\n",
      "Epoch 246/300\n",
      "12/12 [==============================] - 0s 2ms/step - loss: 0.1428 - accuracy: 0.9448 - val_loss: 0.2735 - val_accuracy: 0.9167\n",
      "Epoch 247/300\n",
      "12/12 [==============================] - 0s 2ms/step - loss: 0.1159 - accuracy: 0.9498 - val_loss: 0.2833 - val_accuracy: 0.9167\n",
      "Epoch 248/300\n",
      "12/12 [==============================] - 0s 2ms/step - loss: 0.1227 - accuracy: 0.9441 - val_loss: 0.3177 - val_accuracy: 0.8750\n",
      "Epoch 249/300\n",
      "12/12 [==============================] - 0s 3ms/step - loss: 0.1230 - accuracy: 0.9498 - val_loss: 0.2773 - val_accuracy: 0.9167\n",
      "Epoch 250/300\n",
      "12/12 [==============================] - 0s 2ms/step - loss: 0.1073 - accuracy: 0.9688 - val_loss: 0.2764 - val_accuracy: 0.9167\n",
      "Epoch 251/300\n",
      "12/12 [==============================] - 0s 2ms/step - loss: 0.1770 - accuracy: 0.9266 - val_loss: 0.2705 - val_accuracy: 0.9167\n",
      "Epoch 252/300\n",
      "12/12 [==============================] - 0s 2ms/step - loss: 0.1212 - accuracy: 0.9473 - val_loss: 0.2591 - val_accuracy: 0.9167\n",
      "Epoch 253/300\n",
      "12/12 [==============================] - 0s 2ms/step - loss: 0.1649 - accuracy: 0.9367 - val_loss: 0.2882 - val_accuracy: 0.9167\n",
      "Epoch 254/300\n",
      "12/12 [==============================] - 0s 2ms/step - loss: 0.1288 - accuracy: 0.9602 - val_loss: 0.2873 - val_accuracy: 0.9167\n",
      "Epoch 255/300\n",
      "12/12 [==============================] - 0s 2ms/step - loss: 0.1247 - accuracy: 0.9648 - val_loss: 0.2891 - val_accuracy: 0.9167\n",
      "Epoch 256/300\n",
      "12/12 [==============================] - 0s 2ms/step - loss: 0.1409 - accuracy: 0.9467 - val_loss: 0.2863 - val_accuracy: 0.9167\n",
      "Epoch 257/300\n",
      "12/12 [==============================] - 0s 2ms/step - loss: 0.1394 - accuracy: 0.9568 - val_loss: 0.2828 - val_accuracy: 0.9167\n",
      "Epoch 258/300\n",
      "12/12 [==============================] - 0s 2ms/step - loss: 0.1265 - accuracy: 0.9464 - val_loss: 0.2687 - val_accuracy: 0.9167\n",
      "Epoch 259/300\n",
      "12/12 [==============================] - 0s 2ms/step - loss: 0.1433 - accuracy: 0.9502 - val_loss: 0.2803 - val_accuracy: 0.9167\n",
      "Epoch 260/300\n",
      "12/12 [==============================] - 0s 2ms/step - loss: 0.1055 - accuracy: 0.9520 - val_loss: 0.2800 - val_accuracy: 0.9167\n",
      "Epoch 261/300\n",
      "12/12 [==============================] - 0s 2ms/step - loss: 0.0880 - accuracy: 0.9675 - val_loss: 0.2749 - val_accuracy: 0.9167\n",
      "Epoch 262/300\n",
      "12/12 [==============================] - 0s 2ms/step - loss: 0.1492 - accuracy: 0.9408 - val_loss: 0.2891 - val_accuracy: 0.9167\n",
      "Epoch 263/300\n",
      "12/12 [==============================] - 0s 2ms/step - loss: 0.1212 - accuracy: 0.9662 - val_loss: 0.2953 - val_accuracy: 0.9167\n",
      "Epoch 264/300\n",
      "12/12 [==============================] - 0s 2ms/step - loss: 0.1068 - accuracy: 0.9617 - val_loss: 0.2955 - val_accuracy: 0.9167\n",
      "Epoch 265/300\n",
      "12/12 [==============================] - 0s 2ms/step - loss: 0.1097 - accuracy: 0.9532 - val_loss: 0.2817 - val_accuracy: 0.9167\n",
      "Epoch 266/300\n",
      "12/12 [==============================] - 0s 2ms/step - loss: 0.1421 - accuracy: 0.9438 - val_loss: 0.2739 - val_accuracy: 0.9167\n",
      "Epoch 267/300\n",
      "12/12 [==============================] - 0s 2ms/step - loss: 0.1353 - accuracy: 0.9480 - val_loss: 0.2990 - val_accuracy: 0.9167\n",
      "Epoch 268/300\n",
      "12/12 [==============================] - 0s 2ms/step - loss: 0.1335 - accuracy: 0.9424 - val_loss: 0.2815 - val_accuracy: 0.9167\n",
      "Epoch 269/300\n",
      "12/12 [==============================] - 0s 2ms/step - loss: 0.1345 - accuracy: 0.9519 - val_loss: 0.2694 - val_accuracy: 0.9167\n",
      "Epoch 270/300\n",
      "12/12 [==============================] - 0s 2ms/step - loss: 0.1727 - accuracy: 0.9353 - val_loss: 0.2836 - val_accuracy: 0.9167\n",
      "Epoch 271/300\n",
      "12/12 [==============================] - 0s 2ms/step - loss: 0.1569 - accuracy: 0.9415 - val_loss: 0.2822 - val_accuracy: 0.9375\n",
      "Epoch 272/300\n",
      "12/12 [==============================] - 0s 2ms/step - loss: 0.0988 - accuracy: 0.9651 - val_loss: 0.2525 - val_accuracy: 0.9375\n",
      "Epoch 273/300\n",
      "12/12 [==============================] - 0s 2ms/step - loss: 0.1254 - accuracy: 0.9620 - val_loss: 0.2838 - val_accuracy: 0.9167\n",
      "Epoch 274/300\n",
      "12/12 [==============================] - 0s 2ms/step - loss: 0.1281 - accuracy: 0.9455 - val_loss: 0.2993 - val_accuracy: 0.9167\n",
      "Epoch 275/300\n",
      "12/12 [==============================] - 0s 2ms/step - loss: 0.1195 - accuracy: 0.9667 - val_loss: 0.3057 - val_accuracy: 0.9167\n",
      "Epoch 276/300\n",
      "12/12 [==============================] - 0s 2ms/step - loss: 0.1237 - accuracy: 0.9356 - val_loss: 0.2578 - val_accuracy: 0.9375\n",
      "Epoch 277/300\n",
      "12/12 [==============================] - 0s 2ms/step - loss: 0.1511 - accuracy: 0.9415 - val_loss: 0.2728 - val_accuracy: 0.9375\n",
      "Epoch 278/300\n",
      "12/12 [==============================] - 0s 2ms/step - loss: 0.1411 - accuracy: 0.9342 - val_loss: 0.2648 - val_accuracy: 0.9167\n",
      "Epoch 279/300\n",
      "12/12 [==============================] - 0s 2ms/step - loss: 0.1716 - accuracy: 0.9312 - val_loss: 0.2845 - val_accuracy: 0.9375\n",
      "Epoch 280/300\n",
      "12/12 [==============================] - 0s 2ms/step - loss: 0.1340 - accuracy: 0.9490 - val_loss: 0.2869 - val_accuracy: 0.9167\n",
      "Epoch 281/300\n",
      "12/12 [==============================] - 0s 2ms/step - loss: 0.1114 - accuracy: 0.9467 - val_loss: 0.2859 - val_accuracy: 0.9167\n",
      "Epoch 282/300\n",
      "12/12 [==============================] - 0s 2ms/step - loss: 0.1004 - accuracy: 0.9537 - val_loss: 0.3013 - val_accuracy: 0.9167\n",
      "Epoch 283/300\n",
      "12/12 [==============================] - 0s 2ms/step - loss: 0.1136 - accuracy: 0.9561 - val_loss: 0.2642 - val_accuracy: 0.9167\n",
      "Epoch 284/300\n",
      "12/12 [==============================] - 0s 2ms/step - loss: 0.1211 - accuracy: 0.9569 - val_loss: 0.2600 - val_accuracy: 0.9375\n",
      "Epoch 285/300\n",
      "12/12 [==============================] - 0s 2ms/step - loss: 0.1073 - accuracy: 0.9645 - val_loss: 0.2947 - val_accuracy: 0.9167\n",
      "Epoch 286/300\n",
      "12/12 [==============================] - 0s 2ms/step - loss: 0.1066 - accuracy: 0.9705 - val_loss: 0.2812 - val_accuracy: 0.9375\n",
      "Epoch 287/300\n",
      "12/12 [==============================] - 0s 2ms/step - loss: 0.1340 - accuracy: 0.9700 - val_loss: 0.2827 - val_accuracy: 0.9375\n",
      "Epoch 288/300\n",
      "12/12 [==============================] - 0s 2ms/step - loss: 0.1399 - accuracy: 0.9390 - val_loss: 0.2770 - val_accuracy: 0.9167\n",
      "Epoch 289/300\n",
      "12/12 [==============================] - 0s 2ms/step - loss: 0.1108 - accuracy: 0.9498 - val_loss: 0.3175 - val_accuracy: 0.8958\n",
      "Epoch 290/300\n",
      "12/12 [==============================] - 0s 2ms/step - loss: 0.0907 - accuracy: 0.9685 - val_loss: 0.2839 - val_accuracy: 0.9375\n",
      "Epoch 291/300\n",
      "12/12 [==============================] - 0s 2ms/step - loss: 0.1182 - accuracy: 0.9540 - val_loss: 0.2642 - val_accuracy: 0.9375\n",
      "Epoch 292/300\n",
      "12/12 [==============================] - 0s 2ms/step - loss: 0.1428 - accuracy: 0.9389 - val_loss: 0.2538 - val_accuracy: 0.9167\n",
      "Epoch 293/300\n",
      "12/12 [==============================] - 0s 2ms/step - loss: 0.1248 - accuracy: 0.9402 - val_loss: 0.2927 - val_accuracy: 0.9167\n",
      "Epoch 294/300\n",
      "12/12 [==============================] - 0s 2ms/step - loss: 0.1026 - accuracy: 0.9745 - val_loss: 0.2588 - val_accuracy: 0.9375\n",
      "Epoch 295/300\n",
      "12/12 [==============================] - 0s 2ms/step - loss: 0.1373 - accuracy: 0.9484 - val_loss: 0.2715 - val_accuracy: 0.9375\n",
      "Epoch 296/300\n",
      "12/12 [==============================] - 0s 2ms/step - loss: 0.1228 - accuracy: 0.9586 - val_loss: 0.2714 - val_accuracy: 0.9375\n",
      "Epoch 297/300\n",
      "12/12 [==============================] - 0s 2ms/step - loss: 0.1065 - accuracy: 0.9624 - val_loss: 0.2916 - val_accuracy: 0.9167\n",
      "Epoch 298/300\n",
      "12/12 [==============================] - 0s 2ms/step - loss: 0.1542 - accuracy: 0.9451 - val_loss: 0.2980 - val_accuracy: 0.9167\n",
      "Epoch 299/300\n",
      "12/12 [==============================] - 0s 2ms/step - loss: 0.0991 - accuracy: 0.9630 - val_loss: 0.2703 - val_accuracy: 0.9375\n",
      "Epoch 300/300\n",
      "12/12 [==============================] - 0s 2ms/step - loss: 0.1184 - accuracy: 0.9515 - val_loss: 0.2867 - val_accuracy: 0.9375\n"
     ]
    }
   ],
   "source": [
    "#모델 학습 실시\n",
    "history=model.fit(mm_x_train, o_y_train, epochs = 300, batch_size=16, validation_split=0.2)\n",
    "\n",
    "'''\n",
    "1. epochs : 학습 횟수\n",
    "2. batch_size : 한 번에 학습할 데이터 크기\n",
    "3. validation_split : 검증 데이터의 비율\n",
    "\n",
    "'''"
   ]
  },
  {
   "cell_type": "code",
   "execution_count": 99,
   "metadata": {},
   "outputs": [
    {
     "data": {
      "image/png": "[encoded data removed]",
      "text/plain": [
       "<Figure size 1152x360 with 2 Axes>"
      ]
     },
     "metadata": {
      "needs_background": "light"
     },
     "output_type": "display_data"
    }
   ],
   "source": [
    "#학습 결과 그래프 표시\n",
    "plt.figure(figsize=(16,5))\n",
    "plt.subplot(1,2,1)\n",
    "plt.xlabel('Epoch')\n",
    "plt.ylabel('Loss')\n",
    "plt.plot(history.history['loss'], label='Train Loss')\n",
    "plt.plot(history.history['val_loss'], label='Val Loss')\n",
    "plt.legend()\n",
    "plt.subplot(1,2,2)\n",
    "plt.xlabel('Epoch')\n",
    "plt.ylabel('Accuracy')\n",
    "plt.plot(history.history['accuracy'], label='Train Accuracy')\n",
    "plt.plot(history.history['val_accuracy'], label='Val Accuracy')\n",
    "plt.legend()\n",
    "plt.show()"
   ]
  },
  {
   "cell_type": "code",
   "execution_count": 102,
   "metadata": {},
   "outputs": [
    {
     "name": "stdout",
     "output_type": "stream",
     "text": [
      "8/8 [==============================] - 0s 1ms/step - loss: 0.1545 - accuracy: 0.9500\n"
     ]
    },
    {
     "data": {
      "text/plain": [
       "[0.15450172126293182, 0.949999988079071]"
      ]
     },
     "execution_count": 102,
     "metadata": {},
     "output_type": "execute_result"
    }
   ],
   "source": [
    "# 모델 훈련 성능 확인 (loss, accuaracy 순)\n",
    "model.evaluate(mm_x_train, o_y_train)"
   ]
  },
  {
   "cell_type": "code",
   "execution_count": 101,
   "metadata": {},
   "outputs": [
    {
     "name": "stdout",
     "output_type": "stream",
     "text": [
      "2/2 [==============================] - 0s 3ms/step - loss: 0.2799 - accuracy: 0.9333\n"
     ]
    },
    {
     "data": {
      "text/plain": [
       "[0.27985888719558716, 0.9333333373069763]"
      ]
     },
     "execution_count": 101,
     "metadata": {},
     "output_type": "execute_result"
    }
   ],
   "source": [
    "#모델 테스트 성능 확인\n",
    "model.evaluate(mm_x_test, o_y_test)"
   ]
  },
  {
   "cell_type": "code",
   "execution_count": 103,
   "metadata": {},
   "outputs": [],
   "source": [
    "#테스트용 데이터 셋 활용 예측값 생성\n",
    "y_pred=model.predict(mm_x_test)"
   ]
  },
  {
   "cell_type": "code",
   "execution_count": 104,
   "metadata": {},
   "outputs": [
    {
     "data": {
      "text/plain": [
       "array([[9.9609154e-01, 3.0377464e-06, 3.9053455e-03],\n",
       "       [9.9999666e-01, 1.1840291e-07, 3.1978045e-06],\n",
       "       [9.9999821e-01, 5.9573938e-07, 1.1335245e-06],\n",
       "       [9.9999666e-01, 1.4185287e-06, 1.9269519e-06],\n",
       "       [9.9999976e-01, 1.4016557e-07, 1.2087983e-07]], dtype=float32)"
      ]
     },
     "execution_count": 104,
     "metadata": {},
     "output_type": "execute_result"
    }
   ],
   "source": [
    "#예측값 확인\n",
    "y_pred[0:5]"
   ]
  },
  {
   "cell_type": "code",
   "execution_count": 105,
   "metadata": {},
   "outputs": [],
   "source": [
    "#예측값 반올림\n",
    "y_pred=y_pred.round()"
   ]
  },
  {
   "cell_type": "code",
   "execution_count": 106,
   "metadata": {},
   "outputs": [
    {
     "data": {
      "text/plain": [
       "array([[1., 0., 0.],\n",
       "       [1., 0., 0.],\n",
       "       [1., 0., 0.],\n",
       "       [1., 0., 0.],\n",
       "       [1., 0., 0.]], dtype=float32)"
      ]
     },
     "execution_count": 106,
     "metadata": {},
     "output_type": "execute_result"
    }
   ],
   "source": [
    "#예측값 확인\n",
    "y_pred[0:5]"
   ]
  },
  {
   "cell_type": "code",
   "execution_count": 108,
   "metadata": {},
   "outputs": [],
   "source": [
    "import numpy as np\n",
    "#배열에서 열 기준 가장 큰 값의 인덱스 호출 및 배열 차원 축소\n",
    "y_pred=np.argmax(y_pred, axis=1).reshape(-1)"
   ]
  },
  {
   "cell_type": "code",
   "execution_count": 109,
   "metadata": {},
   "outputs": [
    {
     "data": {
      "text/plain": [
       "array([0, 0, 0, 0, 0, 0, 0, 0, 0, 0, 0, 0, 0, 0, 0, 0, 0, 0, 0, 0, 1, 1,\n",
       "       1, 1, 1, 1, 1, 1, 2, 1, 1, 1, 1, 2, 1, 1, 1, 1, 1, 0, 2, 2, 2, 2,\n",
       "       2, 2, 2, 2, 2, 2, 2, 1, 2, 2, 2, 2, 2, 2, 2, 2], dtype=int64)"
      ]
     },
     "execution_count": 109,
     "metadata": {},
     "output_type": "execute_result"
    }
   ],
   "source": [
    "y_pred"
   ]
  },
  {
   "cell_type": "code",
   "execution_count": 110,
   "metadata": {},
   "outputs": [],
   "source": [
    "#예측값 배열의 0을 a로, 1을 b로, 2를 c로 변경\n",
    "condlist = [y_pred==0, y_pred==1, y_pred==2]\n",
    "choicelist=['a','b','c']\n",
    "y_pred = np.select(condlist, choicelist)"
   ]
  },
  {
   "cell_type": "code",
   "execution_count": 111,
   "metadata": {},
   "outputs": [
    {
     "name": "stdout",
     "output_type": "stream",
     "text": [
      "['a' 'a' 'a' 'a' 'a'] ['a' 'a' 'a' 'a' 'a']\n"
     ]
    }
   ],
   "source": [
    "#변환된 예측값과 실제 값 확인\n",
    "print(y_pred[0:5], y_test[0:5])"
   ]
  },
  {
   "cell_type": "code",
   "execution_count": 113,
   "metadata": {},
   "outputs": [
    {
     "data": {
      "text/plain": [
       "array([[20,  0,  0],\n",
       "       [ 1, 17,  2],\n",
       "       [ 0,  1, 19]], dtype=int64)"
      ]
     },
     "execution_count": 113,
     "metadata": {},
     "output_type": "execute_result"
    }
   ],
   "source": [
    "from sklearn.metrics import confusion_matrix\n",
    "confusion_matrix(y_test, y_pred)"
   ]
  },
  {
   "cell_type": "code",
   "execution_count": 114,
   "metadata": {},
   "outputs": [
    {
     "name": "stdout",
     "output_type": "stream",
     "text": [
      "              precision    recall  f1-score   support\n",
      "\n",
      "           a       0.95      1.00      0.98        20\n",
      "           b       0.94      0.85      0.89        20\n",
      "           c       0.90      0.95      0.93        20\n",
      "\n",
      "    accuracy                           0.93        60\n",
      "   macro avg       0.93      0.93      0.93        60\n",
      "weighted avg       0.93      0.93      0.93        60\n",
      "\n"
     ]
    }
   ],
   "source": [
    "from sklearn.metrics import classification_report\n",
    "print(classification_report(y_test, y_pred))"
   ]
  },
  {
   "cell_type": "markdown",
   "metadata": {},
   "source": [
    "### 7.2.2 과적합을 줄이는 방법 (드롭 아웃)"
   ]
  },
  {
   "cell_type": "code",
   "execution_count": 115,
   "metadata": {},
   "outputs": [],
   "source": [
    "from keras.layers import Dropout"
   ]
  },
  {
   "cell_type": "code",
   "execution_count": 117,
   "metadata": {},
   "outputs": [
    {
     "name": "stdout",
     "output_type": "stream",
     "text": [
      "WARNING:tensorflow:Please add `keras.layers.InputLayer` instead of `keras.Input` to Sequential model. `keras.Input` is intended to be used by Functional model.\n",
      "Model: \"sequential_2\"\n",
      "_________________________________________________________________\n",
      "Layer (type)                 Output Shape              Param #   \n",
      "=================================================================\n",
      "dense_6 (Dense)              (None, 16)                64        \n",
      "_________________________________________________________________\n",
      "dropout (Dropout)            (None, 16)                0         \n",
      "_________________________________________________________________\n",
      "dense_7 (Dense)              (None, 16)                272       \n",
      "_________________________________________________________________\n",
      "dropout_1 (Dropout)          (None, 16)                0         \n",
      "_________________________________________________________________\n",
      "dense_8 (Dense)              (None, 3)                 51        \n",
      "=================================================================\n",
      "Total params: 387\n",
      "Trainable params: 387\n",
      "Non-trainable params: 0\n",
      "_________________________________________________________________\n"
     ]
    }
   ],
   "source": [
    "#모델 구축\n",
    "model_d=Sequential()\n",
    "model_d.add(Input(3))\n",
    "model_d.add(Dense(16, activation='relu'))\n",
    "model_d.add(Dropout(0.4))\n",
    "model_d.add(Dense(16, activation='relu'))\n",
    "model_d.add(Dropout(0.4))\n",
    "model_d.add(Dense(3, activation='softmax'))\n",
    "model_d.summary()"
   ]
  },
  {
   "cell_type": "code",
   "execution_count": null,
   "metadata": {},
   "outputs": [],
   "source": []
  }
 ],
 "metadata": {
  "kernelspec": {
   "display_name": "Python 3",
   "language": "python",
   "name": "python3"
  },
  "language_info": {
   "codemirror_mode": {
    "name": "ipython",
    "version": 3
   },
   "file_extension": ".py",
   "mimetype": "text/x-python",
   "name": "python",
   "nbconvert_exporter": "python",
   "pygments_lexer": "ipython3",
   "version": "3.7.4"
  }
 },
 "nbformat": 4,
 "nbformat_minor": 2
}
